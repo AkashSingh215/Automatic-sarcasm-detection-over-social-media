{
 "cells": [
  {
   "cell_type": "code",
   "execution_count": 54,
   "id": "631578ef",
   "metadata": {},
   "outputs": [],
   "source": [
    "# !pip install nltk    \n",
    "# !pip install emoji        \n",
    "# !pip install autocorrec\\t    \n",
    "# !pip install xgboost\n",
    "# !pip install -U spacy"
   ]
  },
  {
   "cell_type": "code",
   "execution_count": 2,
   "id": "02e5a27d",
   "metadata": {
    "scrolled": true,
    "tags": []
   },
   "outputs": [],
   "source": [
    "# nltk.download('all-corpora')\n",
    "# nltk.download('punkt')  # for using word_tokenizer\n",
    "# nltk.download('wordnet')  # for using Lemmatizer\n",
    "# nltk.download('averaged_perceptron_tagger') # for language processing i.e tagging words with their parts of speech (POS)\n",
    "# !python -m spacy download en_core_web_lg"
   ]
  },
  {
   "cell_type": "code",
   "execution_count": 2,
   "id": "19e54a87",
   "metadata": {},
   "outputs": [
    {
     "name": "stderr",
     "output_type": "stream",
     "text": [
      "2022-09-26 19:12:28.807517: I tensorflow/core/util/util.cc:169] oneDNN custom operations are on. You may see slightly different numerical results due to floating-point round-off errors from different computation orders. To turn them off, set the environment variable `TF_ENABLE_ONEDNN_OPTS=0`.\n"
     ]
    }
   ],
   "source": [
    "import os\n",
    "import numpy as np\n",
    "import pandas as pd\n",
    "import seaborn as sns\n",
    "import matplotlib.pyplot as plt\n",
    "import time\n",
    "import spacy\n",
    "import nltk\n",
    "import re   # regular expression\n",
    "import string\n",
    "import multiprocessing\n",
    "from multiprocessing import Pool\n",
    "import scipy.sparse as sp\n",
    "import joblib\n",
    "import emoji\n",
    "from autocorrect import Speller   # for correcting spelling\n",
    "from nltk.corpus import stopwords\n",
    "from nltk.tokenize import word_tokenize    # for tokenizing string into words\n",
    "from nltk.stem import WordNetLemmatizer    # for lemmatizing words\n",
    "from nltk.tag import pos_tag # for tagging words with their parts of speech (POS)"
   ]
  },
  {
   "cell_type": "code",
   "execution_count": 3,
   "id": "0d60cf7d-d436-4c51-bdb8-6c4d59e4be5b",
   "metadata": {},
   "outputs": [],
   "source": [
    "import sklearn"
   ]
  },
  {
   "cell_type": "code",
   "execution_count": 4,
   "id": "d82ce6cd",
   "metadata": {},
   "outputs": [],
   "source": [
    "from sklearn.preprocessing import LabelEncoder"
   ]
  },
  {
   "cell_type": "code",
   "execution_count": 5,
   "id": "5e22a5f6",
   "metadata": {},
   "outputs": [],
   "source": [
    "from sklearn.feature_extraction.text import CountVectorizer, TfidfVectorizer"
   ]
  },
  {
   "cell_type": "code",
   "execution_count": 6,
   "id": "1d02e36e",
   "metadata": {},
   "outputs": [],
   "source": [
    "from sklearn.model_selection import train_test_split, cross_val_score, StratifiedShuffleSplit\n",
    "from sklearn.feature_selection import SelectKBest,chi2, mutual_info_classif\n",
    "from sklearn.decomposition import PCA"
   ]
  },
  {
   "cell_type": "code",
   "execution_count": 7,
   "id": "204dfd5b",
   "metadata": {},
   "outputs": [
    {
     "name": "stderr",
     "output_type": "stream",
     "text": [
      "/usr/lib/python3/dist-packages/pkg_resources/__init__.py:116: PkgResourcesDeprecationWarning: 1.1build1 is an invalid version and will not be supported in a future release\n",
      "  warnings.warn(\n",
      "/usr/lib/python3/dist-packages/pkg_resources/__init__.py:116: PkgResourcesDeprecationWarning: 0.1.43ubuntu1 is an invalid version and will not be supported in a future release\n",
      "  warnings.warn(\n"
     ]
    }
   ],
   "source": [
    "from sklearn.linear_model import LogisticRegression\n",
    "from sklearn.linear_model import SGDClassifier\n",
    "from sklearn.naive_bayes import MultinomialNB, GaussianNB\n",
    "from sklearn.tree import DecisionTreeClassifier\n",
    "from sklearn.ensemble import RandomForestClassifier, ExtraTreesClassifier\n",
    "from sklearn.neighbors import KNeighborsClassifier\n",
    "from sklearn.svm import SVC,LinearSVC\n",
    "from sklearn.discriminant_analysis import LinearDiscriminantAnalysis\n",
    "import xgboost\n",
    "from xgboost import XGBClassifier"
   ]
  },
  {
   "cell_type": "code",
   "execution_count": 8,
   "id": "a38aca9b",
   "metadata": {},
   "outputs": [],
   "source": [
    "from sklearn.model_selection import RepeatedStratifiedKFold\n",
    "from sklearn.pipeline import Pipeline\n",
    "from sklearn.model_selection import GridSearchCV"
   ]
  },
  {
   "cell_type": "code",
   "execution_count": 9,
   "id": "a9b53798",
   "metadata": {},
   "outputs": [],
   "source": [
    "from sklearn.metrics import classification_report\n",
    "from sklearn.metrics import confusion_matrix, accuracy_score, recall_score, f1_score"
   ]
  },
  {
   "cell_type": "code",
   "execution_count": 8,
   "id": "55fae504",
   "metadata": {
    "tags": []
   },
   "outputs": [],
   "source": [
    "df_train = pd.read_csv('data/project_training_data_with_class_labels.csv',dtype=str,delimiter=',',quoting=3)"
   ]
  },
  {
   "cell_type": "code",
   "execution_count": 9,
   "id": "2705797d",
   "metadata": {},
   "outputs": [
    {
     "data": {
      "text/plain": [
       "(808661, 4)"
      ]
     },
     "execution_count": 9,
     "metadata": {},
     "output_type": "execute_result"
    }
   ],
   "source": [
    "df_train.shape"
   ]
  },
  {
   "cell_type": "code",
   "execution_count": 10,
   "id": "73aae4ff-3b29-4156-9a7e-d6a07f824017",
   "metadata": {},
   "outputs": [
    {
     "name": "stdout",
     "output_type": "stream",
     "text": [
      "<class 'pandas.core.frame.DataFrame'>\n",
      "RangeIndex: 808661 entries, 0 to 808660\n",
      "Data columns (total 4 columns):\n",
      " #   Column           Non-Null Count   Dtype \n",
      "---  ------           --------------   ----- \n",
      " 0   ID               808661 non-null  object\n",
      " 1   Comments         808623 non-null  object\n",
      " 2   Parent Comments  808661 non-null  object\n",
      " 3    Class Labels    808661 non-null  object\n",
      "dtypes: object(4)\n",
      "memory usage: 24.7+ MB\n"
     ]
    }
   ],
   "source": [
    "df_train.info()"
   ]
  },
  {
   "cell_type": "code",
   "execution_count": 11,
   "id": "06e4d84d-5562-4392-9796-16d3048bbfd6",
   "metadata": {},
   "outputs": [
    {
     "data": {
      "text/plain": [
       "ID                  0\n",
       "Comments           38\n",
       "Parent Comments     0\n",
       " Class Labels       0\n",
       "dtype: int64"
      ]
     },
     "execution_count": 11,
     "metadata": {},
     "output_type": "execute_result"
    }
   ],
   "source": [
    "# to check for null value\n",
    "df_train.isna().sum()"
   ]
  },
  {
   "cell_type": "code",
   "execution_count": 12,
   "id": "b97a58a0-dc97-4726-84f5-24d24a8e4191",
   "metadata": {},
   "outputs": [
    {
     "data": {
      "text/plain": [
       "Index(['ID', 'Comments', 'Parent Comments', ' Class Labels '], dtype='object')"
      ]
     },
     "execution_count": 12,
     "metadata": {},
     "output_type": "execute_result"
    }
   ],
   "source": [
    "df_train.columns"
   ]
  },
  {
   "cell_type": "code",
   "execution_count": 13,
   "id": "455b7529-d811-4836-9276-79dd25994b5b",
   "metadata": {},
   "outputs": [
    {
     "data": {
      "text/plain": [
       "Index(['ID', 'Comments', 'Parent Comments', 'Class Labels'], dtype='object')"
      ]
     },
     "execution_count": 13,
     "metadata": {},
     "output_type": "execute_result"
    }
   ],
   "source": [
    "df_train.rename(columns={' Class Labels ' : 'Class Labels'},inplace=True) # changing col name\n",
    "df_train.columns"
   ]
  },
  {
   "cell_type": "code",
   "execution_count": 15,
   "id": "7bde0f58-8aa9-4d9a-a2bc-b991db3c0aea",
   "metadata": {},
   "outputs": [],
   "source": [
    "df_train= df_train.replace(to_replace = np.nan, value = '', regex = True)"
   ]
  },
  {
   "cell_type": "code",
   "execution_count": 16,
   "id": "1747ae66-dffd-4370-a36a-60834afb8c2b",
   "metadata": {},
   "outputs": [
    {
     "data": {
      "text/plain": [
       "ID                 0\n",
       "Comments           0\n",
       "Parent Comments    0\n",
       "Class Labels       0\n",
       "dtype: int64"
      ]
     },
     "execution_count": 16,
     "metadata": {},
     "output_type": "execute_result"
    }
   ],
   "source": [
    "# to check for null value\n",
    "df_train.isna().sum()"
   ]
  },
  {
   "cell_type": "code",
   "execution_count": 17,
   "id": "ad5b66c8-adf1-4b61-aaf0-e8409cfabac9",
   "metadata": {},
   "outputs": [
    {
     "data": {
      "text/html": [
       "<div>\n",
       "<style scoped>\n",
       "    .dataframe tbody tr th:only-of-type {\n",
       "        vertical-align: middle;\n",
       "    }\n",
       "\n",
       "    .dataframe tbody tr th {\n",
       "        vertical-align: top;\n",
       "    }\n",
       "\n",
       "    .dataframe thead th {\n",
       "        text-align: right;\n",
       "    }\n",
       "</style>\n",
       "<table border=\"1\" class=\"dataframe\">\n",
       "  <thead>\n",
       "    <tr style=\"text-align: right;\">\n",
       "      <th></th>\n",
       "      <th>ID</th>\n",
       "      <th>Comments</th>\n",
       "      <th>Parent Comments</th>\n",
       "      <th>Text</th>\n",
       "      <th>Class Labels</th>\n",
       "    </tr>\n",
       "  </thead>\n",
       "  <tbody>\n",
       "    <tr>\n",
       "      <th>0</th>\n",
       "      <td>ocxtitan</td>\n",
       "      <td>Central Illinois</td>\n",
       "      <td>Jesus; where do you live?</td>\n",
       "      <td>Jesus; where do you live? Central Illinois</td>\n",
       "      <td>non-sarcastic</td>\n",
       "    </tr>\n",
       "    <tr>\n",
       "      <th>1</th>\n",
       "      <td>LeChuckly</td>\n",
       "      <td>To think - CNN used to be the acronym synonymo...</td>\n",
       "      <td>Even The CNN Staff Is Sick Of The Wall-To-Wall...</td>\n",
       "      <td>Even The CNN Staff Is Sick Of The Wall-To-Wall...</td>\n",
       "      <td>non-sarcastic</td>\n",
       "    </tr>\n",
       "    <tr>\n",
       "      <th>2</th>\n",
       "      <td>throwitskrub8</td>\n",
       "      <td>But then again; you have to consider that all ...</td>\n",
       "      <td>agree to that part.It can also mean that gujra...</td>\n",
       "      <td>agree to that part.It can also mean that gujra...</td>\n",
       "      <td>non-sarcastic</td>\n",
       "    </tr>\n",
       "    <tr>\n",
       "      <th>3</th>\n",
       "      <td>fresherthanyouuu</td>\n",
       "      <td>ughhhhh</td>\n",
       "      <td>If a guy told you he doesn't use social media ...</td>\n",
       "      <td>If a guy told you he doesn't use social media ...</td>\n",
       "      <td>non-sarcastic</td>\n",
       "    </tr>\n",
       "    <tr>\n",
       "      <th>4</th>\n",
       "      <td>_kushagra</td>\n",
       "      <td>I should've put the</td>\n",
       "      <td>No; it's just a programming bug. After all; th...</td>\n",
       "      <td>No; it's just a programming bug. After all; th...</td>\n",
       "      <td>sarcastic</td>\n",
       "    </tr>\n",
       "  </tbody>\n",
       "</table>\n",
       "</div>"
      ],
      "text/plain": [
       "                 ID                                           Comments  \\\n",
       "0          ocxtitan                                   Central Illinois   \n",
       "1         LeChuckly  To think - CNN used to be the acronym synonymo...   \n",
       "2     throwitskrub8  But then again; you have to consider that all ...   \n",
       "3  fresherthanyouuu                                            ughhhhh   \n",
       "4         _kushagra                                I should've put the   \n",
       "\n",
       "                                     Parent Comments  \\\n",
       "0                          Jesus; where do you live?   \n",
       "1  Even The CNN Staff Is Sick Of The Wall-To-Wall...   \n",
       "2  agree to that part.It can also mean that gujra...   \n",
       "3  If a guy told you he doesn't use social media ...   \n",
       "4  No; it's just a programming bug. After all; th...   \n",
       "\n",
       "                                                Text   Class Labels  \n",
       "0         Jesus; where do you live? Central Illinois  non-sarcastic  \n",
       "1  Even The CNN Staff Is Sick Of The Wall-To-Wall...  non-sarcastic  \n",
       "2  agree to that part.It can also mean that gujra...  non-sarcastic  \n",
       "3  If a guy told you he doesn't use social media ...  non-sarcastic  \n",
       "4  No; it's just a programming bug. After all; th...      sarcastic  "
      ]
     },
     "execution_count": 17,
     "metadata": {},
     "output_type": "execute_result"
    }
   ],
   "source": [
    "# we are combining Parent Comment and Comment cols. into one cols.\n",
    "# Inserting the column before Class Labels col.\n",
    "df_train.insert(loc = 3,\n",
    "        column = 'Text',\n",
    "        value = df_train['Parent Comments'] + \" \" +df_train['Comments'])\n",
    "\n",
    "df_train.head()"
   ]
  },
  {
   "cell_type": "code",
   "execution_count": 18,
   "id": "bda1c5a8-d7b1-4975-bcbe-1b59dfa42ace",
   "metadata": {},
   "outputs": [
    {
     "data": {
      "text/plain": [
       "(808661, 5)"
      ]
     },
     "execution_count": 18,
     "metadata": {},
     "output_type": "execute_result"
    }
   ],
   "source": [
    "df_train.shape"
   ]
  },
  {
   "cell_type": "code",
   "execution_count": 20,
   "id": "fe69be2f-6031-4e86-8da7-6c1131466b9d",
   "metadata": {},
   "outputs": [
    {
     "data": {
      "text/plain": [
       "ID                 0\n",
       "Comments           0\n",
       "Parent Comments    0\n",
       "Text               0\n",
       "Class Labels       0\n",
       "dtype: int64"
      ]
     },
     "execution_count": 20,
     "metadata": {},
     "output_type": "execute_result"
    }
   ],
   "source": [
    "# to check for null value\n",
    "df_train.isnull().sum()"
   ]
  },
  {
   "cell_type": "code",
   "execution_count": 22,
   "id": "0f25f346-4d50-44c2-a230-f57df4745ada",
   "metadata": {},
   "outputs": [],
   "source": [
    "# # to check for null value\n",
    "df_train.isnull().sum()"
   ]
  },
  {
   "cell_type": "markdown",
   "id": "40700151-3c17-46dd-8544-fba8d3b2e821",
   "metadata": {},
   "source": [
    "Since here there is issue with the format of some rows. So we are manually correcting them."
   ]
  },
  {
   "cell_type": "code",
   "execution_count": 23,
   "id": "9b9149b2-3de9-45bc-9c92-e38474afafca",
   "metadata": {},
   "outputs": [
    {
     "data": {
      "text/html": [
       "<div>\n",
       "<style scoped>\n",
       "    .dataframe tbody tr th:only-of-type {\n",
       "        vertical-align: middle;\n",
       "    }\n",
       "\n",
       "    .dataframe tbody tr th {\n",
       "        vertical-align: top;\n",
       "    }\n",
       "\n",
       "    .dataframe thead th {\n",
       "        text-align: right;\n",
       "    }\n",
       "</style>\n",
       "<table border=\"1\" class=\"dataframe\">\n",
       "  <thead>\n",
       "    <tr style=\"text-align: right;\">\n",
       "      <th></th>\n",
       "      <th>ID</th>\n",
       "      <th>Comments</th>\n",
       "      <th>Parent Comments</th>\n",
       "    </tr>\n",
       "  </thead>\n",
       "  <tbody>\n",
       "    <tr>\n",
       "      <th>0</th>\n",
       "      <td>theyoungthaddeus</td>\n",
       "      <td>No one \"needs\" an assault foam dart blaster</td>\n",
       "      <td>Your son has to register those at the county j...</td>\n",
       "    </tr>\n",
       "    <tr>\n",
       "      <th>1</th>\n",
       "      <td>Just_an_asian_here</td>\n",
       "      <td>Cause all attractive women are uninteresting a...</td>\n",
       "      <td>Likely due to creative and interesting content.</td>\n",
       "    </tr>\n",
       "    <tr>\n",
       "      <th>2</th>\n",
       "      <td>Foxprowl</td>\n",
       "      <td>Poser.</td>\n",
       "      <td>Jon Stewart is going to HBO</td>\n",
       "    </tr>\n",
       "    <tr>\n",
       "      <th>3</th>\n",
       "      <td>kd7rzv</td>\n",
       "      <td>Won't be long and Anet will start banning peop...</td>\n",
       "      <td>This post looks like bullshit market manipulat...</td>\n",
       "    </tr>\n",
       "    <tr>\n",
       "      <th>4</th>\n",
       "      <td>Ellefied</td>\n",
       "      <td>There goes my hope that Kubo does a Kojima as ...</td>\n",
       "      <td>Plus the Japanese typically do not talk shit w...</td>\n",
       "    </tr>\n",
       "  </tbody>\n",
       "</table>\n",
       "</div>"
      ],
      "text/plain": [
       "                   ID                                           Comments  \\\n",
       "0    theyoungthaddeus        No one \"needs\" an assault foam dart blaster   \n",
       "1  Just_an_asian_here  Cause all attractive women are uninteresting a...   \n",
       "2            Foxprowl                                             Poser.   \n",
       "3              kd7rzv  Won't be long and Anet will start banning peop...   \n",
       "4            Ellefied  There goes my hope that Kubo does a Kojima as ...   \n",
       "\n",
       "                                    Parent Comments   \n",
       "0  Your son has to register those at the county j...  \n",
       "1    Likely due to creative and interesting content.  \n",
       "2                        Jon Stewart is going to HBO  \n",
       "3  This post looks like bullshit market manipulat...  \n",
       "4  Plus the Japanese typically do not talk shit w...  "
      ]
     },
     "execution_count": 23,
     "metadata": {},
     "output_type": "execute_result"
    }
   ],
   "source": [
    "df_test = pd.read_csv('data/project_test_data.csv',dtype=str,delimiter=',',quoting=3)\n",
    "df_test.head()"
   ]
  },
  {
   "cell_type": "code",
   "execution_count": 24,
   "id": "7b051283",
   "metadata": {},
   "outputs": [
    {
     "data": {
      "text/plain": [
       "(202166, 3)"
      ]
     },
     "execution_count": 24,
     "metadata": {},
     "output_type": "execute_result"
    }
   ],
   "source": [
    "df_test.shape"
   ]
  },
  {
   "cell_type": "code",
   "execution_count": 25,
   "id": "44d9bd42",
   "metadata": {},
   "outputs": [
    {
     "data": {
      "text/plain": [
       "ID                   0\n",
       "Comments            15\n",
       "Parent Comments      0\n",
       "dtype: int64"
      ]
     },
     "execution_count": 25,
     "metadata": {},
     "output_type": "execute_result"
    }
   ],
   "source": [
    "# to check for null value\n",
    "df_test.isnull().sum()"
   ]
  },
  {
   "cell_type": "code",
   "execution_count": 26,
   "id": "540c0fd4-2122-431d-a1e9-60e063c92f85",
   "metadata": {},
   "outputs": [],
   "source": [
    "df_test= df_test.replace(to_replace = np.nan, value = '', regex = True)"
   ]
  },
  {
   "cell_type": "code",
   "execution_count": 27,
   "id": "183955a2-8175-474d-857e-b818155eccd4",
   "metadata": {},
   "outputs": [
    {
     "data": {
      "text/plain": [
       "ID                  0\n",
       "Comments            0\n",
       "Parent Comments     0\n",
       "dtype: int64"
      ]
     },
     "execution_count": 27,
     "metadata": {},
     "output_type": "execute_result"
    }
   ],
   "source": [
    "# to check for null value\n",
    "df_test.isnull().sum()"
   ]
  },
  {
   "cell_type": "code",
   "execution_count": 28,
   "id": "80f774ce-01d9-497f-960d-617046eeb630",
   "metadata": {},
   "outputs": [
    {
     "data": {
      "text/plain": [
       "Index(['ID', 'Comments', 'Parent Comments '], dtype='object')"
      ]
     },
     "execution_count": 28,
     "metadata": {},
     "output_type": "execute_result"
    }
   ],
   "source": [
    "df_test.columns"
   ]
  },
  {
   "cell_type": "code",
   "execution_count": 29,
   "id": "8d3a61bd-9873-4723-9791-b0e31ef3f1e3",
   "metadata": {},
   "outputs": [],
   "source": [
    "df_test.rename(columns={'Parent Comments ': 'Parent Comments'},inplace = True)"
   ]
  },
  {
   "cell_type": "code",
   "execution_count": 30,
   "id": "3306398f-bbb9-4ad9-bddc-9388ebaf06b1",
   "metadata": {},
   "outputs": [
    {
     "data": {
      "text/plain": [
       "Index(['ID', 'Comments', 'Parent Comments'], dtype='object')"
      ]
     },
     "execution_count": 30,
     "metadata": {},
     "output_type": "execute_result"
    }
   ],
   "source": [
    "df_test.columns"
   ]
  },
  {
   "cell_type": "code",
   "execution_count": 31,
   "id": "97354327-3255-4122-8785-bed9ae434166",
   "metadata": {},
   "outputs": [
    {
     "data": {
      "text/html": [
       "<div>\n",
       "<style scoped>\n",
       "    .dataframe tbody tr th:only-of-type {\n",
       "        vertical-align: middle;\n",
       "    }\n",
       "\n",
       "    .dataframe tbody tr th {\n",
       "        vertical-align: top;\n",
       "    }\n",
       "\n",
       "    .dataframe thead th {\n",
       "        text-align: right;\n",
       "    }\n",
       "</style>\n",
       "<table border=\"1\" class=\"dataframe\">\n",
       "  <thead>\n",
       "    <tr style=\"text-align: right;\">\n",
       "      <th></th>\n",
       "      <th>ID</th>\n",
       "      <th>Comments</th>\n",
       "      <th>Parent Comments</th>\n",
       "      <th>Text</th>\n",
       "    </tr>\n",
       "  </thead>\n",
       "  <tbody>\n",
       "    <tr>\n",
       "      <th>0</th>\n",
       "      <td>theyoungthaddeus</td>\n",
       "      <td>No one \"needs\" an assault foam dart blaster</td>\n",
       "      <td>Your son has to register those at the county j...</td>\n",
       "      <td>Your son has to register those at the county j...</td>\n",
       "    </tr>\n",
       "    <tr>\n",
       "      <th>1</th>\n",
       "      <td>Just_an_asian_here</td>\n",
       "      <td>Cause all attractive women are uninteresting a...</td>\n",
       "      <td>Likely due to creative and interesting content.</td>\n",
       "      <td>Likely due to creative and interesting content...</td>\n",
       "    </tr>\n",
       "    <tr>\n",
       "      <th>2</th>\n",
       "      <td>Foxprowl</td>\n",
       "      <td>Poser.</td>\n",
       "      <td>Jon Stewart is going to HBO</td>\n",
       "      <td>Jon Stewart is going to HBO Poser.</td>\n",
       "    </tr>\n",
       "    <tr>\n",
       "      <th>3</th>\n",
       "      <td>kd7rzv</td>\n",
       "      <td>Won't be long and Anet will start banning peop...</td>\n",
       "      <td>This post looks like bullshit market manipulat...</td>\n",
       "      <td>This post looks like bullshit market manipulat...</td>\n",
       "    </tr>\n",
       "    <tr>\n",
       "      <th>4</th>\n",
       "      <td>Ellefied</td>\n",
       "      <td>There goes my hope that Kubo does a Kojima as ...</td>\n",
       "      <td>Plus the Japanese typically do not talk shit w...</td>\n",
       "      <td>Plus the Japanese typically do not talk shit w...</td>\n",
       "    </tr>\n",
       "  </tbody>\n",
       "</table>\n",
       "</div>"
      ],
      "text/plain": [
       "                   ID                                           Comments  \\\n",
       "0    theyoungthaddeus        No one \"needs\" an assault foam dart blaster   \n",
       "1  Just_an_asian_here  Cause all attractive women are uninteresting a...   \n",
       "2            Foxprowl                                             Poser.   \n",
       "3              kd7rzv  Won't be long and Anet will start banning peop...   \n",
       "4            Ellefied  There goes my hope that Kubo does a Kojima as ...   \n",
       "\n",
       "                                     Parent Comments  \\\n",
       "0  Your son has to register those at the county j...   \n",
       "1    Likely due to creative and interesting content.   \n",
       "2                        Jon Stewart is going to HBO   \n",
       "3  This post looks like bullshit market manipulat...   \n",
       "4  Plus the Japanese typically do not talk shit w...   \n",
       "\n",
       "                                                Text  \n",
       "0  Your son has to register those at the county j...  \n",
       "1  Likely due to creative and interesting content...  \n",
       "2                 Jon Stewart is going to HBO Poser.  \n",
       "3  This post looks like bullshit market manipulat...  \n",
       "4  Plus the Japanese typically do not talk shit w...  "
      ]
     },
     "execution_count": 31,
     "metadata": {},
     "output_type": "execute_result"
    }
   ],
   "source": [
    "# we are combining Parent Comment and Comment cols. into one cols.\n",
    "df_test['Text'] = df_test['Parent Comments'] + \" \" +df_test['Comments']\n",
    "df_test.head()"
   ]
  },
  {
   "cell_type": "code",
   "execution_count": 32,
   "id": "310e11f6-981b-4262-badc-e772918f5fa3",
   "metadata": {},
   "outputs": [
    {
     "data": {
      "text/plain": [
       "<AxesSubplot:>"
      ]
     },
     "execution_count": 32,
     "metadata": {},
     "output_type": "execute_result"
    },
    {
     "data": {
      "image/png": "[encoded data removed]",
      "text/plain": [
       "<Figure size 640x480 with 1 Axes>"
      ]
     },
     "metadata": {},
     "output_type": "display_data"
    }
   ],
   "source": [
    "df_train['Class Labels'].value_counts().plot(kind = 'bar',rot = .3)"
   ]
  },
  {
   "cell_type": "code",
   "execution_count": 33,
   "id": "47d4c0d7",
   "metadata": {},
   "outputs": [],
   "source": [
    "# english Stopwords\n",
    "stopwords_list = stopwords.words('english')"
   ]
  },
  {
   "cell_type": "code",
   "execution_count": 34,
   "id": "6c3aef77",
   "metadata": {},
   "outputs": [],
   "source": [
    "# used this dictionary for expanding conracted words. this is taken from Github\n",
    "CONTRACTIONS = {\n",
    "    \"I'm\": \"I am\",\n",
    "    \"I'm'a\": \"I am about to\",\n",
    "    \"I'm'o\": \"I am going to\",\n",
    "    \"I've\": \"I have\",\n",
    "    \"I'll\": \"I will\",\n",
    "    \"I'll've\": \"I will have\",\n",
    "    \"I'd\": \"I would\",\n",
    "    \"I'd've\": \"I would have\",\n",
    "    \"Whatcha\": \"What are you\",\n",
    "    \"amn't\": \"am not\",\n",
    "    \"ain't\": \"are not\",\n",
    "    \"aren't\": \"are not\",\n",
    "    \"'cause\": \"because\",\n",
    "    \"can't\": \"cannot\",\n",
    "    \"can't've\": \"cannot have\",\n",
    "    \"could've\": \"could have\",\n",
    "    \"couldn't\": \"could not\",\n",
    "    \"couldn't've\": \"could not have\",\n",
    "    \"daren't\": \"dare not\",\n",
    "    \"daresn't\": \"dare not\",\n",
    "    \"dasn't\": \"dare not\",\n",
    "    \"didn't\": \"did not\",\n",
    "    \"didn’t\": \"did not\",\n",
    "    \"don't\": \"do not\",\n",
    "    \"don’t\": \"do not\",\n",
    "    \"doesn't\": \"does not\",\n",
    "    \"e'er\": \"ever\",\n",
    "    \"everyone's\": \"everyone is\",\n",
    "    \"finna\": \"fixing to\",\n",
    "    \"gimme\": \"give me\",\n",
    "    \"gon't\": \"go not\",\n",
    "    \"gonna\": \"going to\",\n",
    "    \"gotta\": \"got to\",\n",
    "    \"hadn't\": \"had not\",\n",
    "    \"hadn't've\": \"had not have\",\n",
    "    \"hasn't\": \"has not\",\n",
    "    \"haven't\": \"have not\",\n",
    "    \"he've\": \"he have\",\n",
    "    \"he's\": \"he is\",\n",
    "    \"he'll\": \"he will\",\n",
    "    \"he'll've\": \"he will have\",\n",
    "    \"he'd\": \"he would\",\n",
    "    \"he'd've\": \"he would have\",\n",
    "    \"here's\": \"here is\",\n",
    "    \"how're\": \"how are\",\n",
    "    \"how'd\": \"how did\",\n",
    "    \"how'd'y\": \"how do you\",\n",
    "    \"how's\": \"how is\",\n",
    "    \"how'll\": \"how will\",\n",
    "    \"isn't\": \"is not\",\n",
    "    \"it's\": \"it is\",\n",
    "    \"'tis\": \"it is\",\n",
    "    \"'twas\": \"it was\",\n",
    "    \"it'll\": \"it will\",\n",
    "    \"it'll've\": \"it will have\",\n",
    "    \"it'd\": \"it would\",\n",
    "    \"it'd've\": \"it would have\",\n",
    "    \"kinda\": \"kind of\",\n",
    "    \"let's\": \"let us\",\n",
    "    \"luv\": \"love\",\n",
    "    \"ma'am\": \"madam\",\n",
    "    \"may've\": \"may have\",\n",
    "    \"mayn't\": \"may not\",\n",
    "    \"might've\": \"might have\",\n",
    "    \"mightn't\": \"might not\",\n",
    "    \"mightn't've\": \"might not have\",\n",
    "    \"must've\": \"must have\",\n",
    "    \"mustn't\": \"must not\",\n",
    "    \"mustn't've\": \"must not have\",\n",
    "    \"needn't\": \"need not\",\n",
    "    \"needn't've\": \"need not have\",\n",
    "    \"ne'er\": \"never\",\n",
    "    \"o'\": \"of\",\n",
    "    \"o'clock\": \"of the clock\",\n",
    "    \"ol'\": \"old\",\n",
    "    \"oughtn't\": \"ought not\",\n",
    "    \"oughtn't've\": \"ought not have\",\n",
    "    \"o'er\": \"over\",\n",
    "    \"shan't\": \"shall not\",\n",
    "    \"sha'n't\": \"shall not\",\n",
    "    \"shalln't\": \"shall not\",\n",
    "    \"shan't've\": \"shall not have\",\n",
    "    \"she's\": \"she is\",\n",
    "    \"she'll\": \"she will\",\n",
    "    \"she'd\": \"she would\",\n",
    "    \"she'd've\": \"she would have\",\n",
    "    \"should've\": \"should have\",\n",
    "    \"shouldn't\": \"should not\",\n",
    "    \"shouldn't've\": \"should not have\",\n",
    "    \"so've\": \"so have\",\n",
    "    \"so's\": \"so is\",\n",
    "    \"somebody's\": \"somebody is\",\n",
    "    \"someone's\": \"someone is\",\n",
    "    \"something's\": \"something is\",\n",
    "    \"sux\": \"sucks\",\n",
    "    \"that're\": \"that are\",\n",
    "    \"that's\": \"that is\",\n",
    "    \"that'll\": \"that will\",\n",
    "    \"that'd\": \"that would\",\n",
    "    \"that'd've\": \"that would have\",\n",
    "    \"em\": \"them\",\n",
    "    \"there're\": \"there are\",\n",
    "    \"there's\": \"there is\",\n",
    "    \"there'll\": \"there will\",\n",
    "    \"there'd\": \"there would\",\n",
    "    \"there'd've\": \"there would have\",\n",
    "    \"these're\": \"these are\",\n",
    "    \"they're\": \"they are\",\n",
    "    \"they've\": \"they have\",\n",
    "    \"they'll\": \"they will\",\n",
    "    \"they'll've\": \"they will have\",\n",
    "    \"they'd\": \"they would\",\n",
    "    \"they'd've\": \"they would have\",\n",
    "    \"this's\": \"this is\",\n",
    "    \"those're\": \"those are\",\n",
    "    \"to've\": \"to have\",\n",
    "    \"wanna\": \"want to\",\n",
    "    \"wasn't\": \"was not\",\n",
    "    \"we're\": \"we are\",\n",
    "    \"we've\": \"we have\",\n",
    "    \"we'll\": \"we will\",\n",
    "    \"we'll've\": \"we will have\",\n",
    "    \"we'd\": \"we would\",\n",
    "    \"we'd've\": \"we would have\",\n",
    "    \"weren't\": \"were not\",\n",
    "    \"what're\": \"what are\",\n",
    "    \"what'd\": \"what did\",\n",
    "    \"what've\": \"what have\",\n",
    "    \"what's\": \"what is\",\n",
    "    \"what'll\": \"what will\",\n",
    "    \"what'll've\": \"what will have\",\n",
    "    \"when've\": \"when have\",\n",
    "    \"when's\": \"when is\",\n",
    "    \"where're\": \"where are\",\n",
    "    \"where'd\": \"where did\",\n",
    "    \"where've\": \"where have\",\n",
    "    \"where's\": \"where is\",\n",
    "    \"which's\": \"which is\",\n",
    "    \"who're\": \"who are\",\n",
    "    \"who've\": \"who have\",\n",
    "    \"who's\": \"who is\",\n",
    "    \"who'll\": \"who will\",\n",
    "    \"who'll've\": \"who will have\",\n",
    "    \"who'd\": \"who would\",\n",
    "    \"who'd've\": \"who would have\",\n",
    "    \"why're\": \"why are\",\n",
    "    \"why'd\": \"why did\",\n",
    "    \"why've\": \"why have\",\n",
    "    \"why's\": \"why is\",\n",
    "    \"will've\": \"will have\",\n",
    "    \"won't\": \"will not\",\n",
    "    \"won't've\": \"will not have\",\n",
    "    \"would've\": \"would have\",\n",
    "    \"wouldn't\": \"would not\",\n",
    "    \"wouldn't've\": \"would not have\",\n",
    "    \"y'all\": \"you all\",\n",
    "    \"y'all're\": \"you all are\",\n",
    "    \"y'all've\": \"you all have\",\n",
    "    \"y'all'd\": \"you all would\",\n",
    "    \"y'all'd've\": \"you all would have\",\n",
    "    \"you're\": \"you are\",\n",
    "    \"you've\": \"you have\",\n",
    "    \"you'll've\": \"you shall have\",\n",
    "    \"you'll\": \"you will\",\n",
    "    \"you'd\": \"you would\",\n",
    "    \"you'd've\": \"you would have\"\n",
    " }"
   ]
  },
  {
   "cell_type": "code",
   "execution_count": 35,
   "id": "733d0a65",
   "metadata": {},
   "outputs": [],
   "source": [
    "#I created a dictionary for emoticons\n",
    "EMOTICONS = {\n",
    "    u\":‑)\":\"Happy\",\n",
    "    u\":-))\":\"Very Happy\",\n",
    "    u\":-)))\":\"Very very Happy\",\n",
    "    u\":)\":\"Happy\",\n",
    "    u\":))\":\"Very Happy\",\n",
    "    u\":)))\":\"Very very Happy\",\n",
    "    u\":-]\":\"Happy\",\n",
    "    u\":]\":\"Happy\",\n",
    "    u\":-3\":\"Happy\",\n",
    "    u\":3\":\"Happy\",\n",
    "    u\":->\":\"Happy\",\n",
    "    u\":>\":\"Happy\",\n",
    "    u\"8-)\":\"Happy\",\n",
    "    u\":o)\":\"Happy\",\n",
    "    u\":-}\":\"Happy\",\n",
    "    u\":}\":\"Happy\",\n",
    "    u\":-)\":\"Happy\",\n",
    "    u\":c)\":\"Happy\",\n",
    "    u\":^)\":\"Happy\",\n",
    "    u\"=]\":\"Happy\",\n",
    "    u\"=)\":\"Happy\",\n",
    "    u\":‑D\":\"Laughing\",\n",
    "    u\":D\":\"Laughing\",\n",
    "    u\"8‑D\":\"Laughing\",\n",
    "    u\"8D\":\"Laughing\",\n",
    "    u\"X‑D\":\"Laughing\",\n",
    "    u\"XD\":\"Laughing\",\n",
    "    u\"=D\":\"Laughing\",\n",
    "    u\"=3\":\"Laughing\",\n",
    "    u\"B^D\":\"Laughing\",\n",
    "    u\":-))\":\"Very happy\",\n",
    "    u\"<3\":\"love\",\n",
    "    u\":-(\":\"sad\",\n",
    "    u\":‑(\":\"sad\",\n",
    "    u\":(\":\"sad\",\n",
    "    u\":‑c\":\"sad\",\n",
    "    u\":c\":\"sad\",\n",
    "    u\":‑<\":\"sad\",\n",
    "    u\":<\":\"sad\",\n",
    "    u\":‑[\":\"sad\",\n",
    "    u\":[\":\"sad\",\n",
    "    u\":-||\":\"sad\",\n",
    "    u\">:[\":\"sad\",\n",
    "    u\":{\":\"sad\",\n",
    "    u\":@\":\"sad\",\n",
    "    u\">:(\":\"sad\",\n",
    "    u\":'‑(\":\"Crying\",\n",
    "    u\":'(\":\"Crying\",\n",
    "    u\":'‑)\":\"Tears of happiness\",\n",
    "    u\":')\":\"Tears of happiness\",\n",
    "    u\"D‑':\":\"sad\",\n",
    "    u\"D:<\":\"sad\",\n",
    "    u\"D:\":\"sad\",\n",
    "    u\"D8\":\"very sad\",\n",
    "    u\"D;\":\"very sad\",\n",
    "    u\"D=\":\"very sad\",\n",
    "    u\"DX\":\"very sad\",\n",
    "    u\":‑O\":\"Surprise\",\n",
    "    u\":O\":\"Surprise\",\n",
    "    u\":‑o\":\"Surprise\",\n",
    "    u\":o\":\"Surprise\",\n",
    "    u\":-0\":\"Sad\",\n",
    "    u\"8‑0\":\"Yawn\",\n",
    "    u\">:O\":\"Yawn\",\n",
    "    u\":-*\":\"Kiss\",\n",
    "    u\":*\":\"Kiss\",\n",
    "    u\":X\":\"Kiss\",\n",
    "    u\";‑)\":\"Wink\",\n",
    "    u\";)\":\"Wink\",\n",
    "    u\"*-)\":\"Wink\",\n",
    "    u\"*)\":\"Wink\",\n",
    "    u\";‑]\":\"Wink\",\n",
    "    u\";]\":\"Wink\",\n",
    "    u\";^)\":\"Wink\",\n",
    "    u\":‑,\":\"Wink\",\n",
    "    u\";D\":\"Wink\",\n",
    "    u\":‑P\":\"fun\",\n",
    "    u\":P\":\"fun\",\n",
    "    u\"X‑P\":\"fun\",\n",
    "    u\"XP\":\"fun\",\n",
    "    u\":‑Þ\":\"fun\",\n",
    "    u\":Þ\":\"fun\",\n",
    "    u\":b\":\"fun\",\n",
    "    u\"d:\":\"fun\",\n",
    "    u\"=p\":\"fun\",\n",
    "    u\">:P\":\"fun\",\n",
    "    u\":‑/\":\"annoyed\",\n",
    "    u\":/\":\"annoyed\",\n",
    "    u\":-[.]\":\"annoyed\",\n",
    "    u\">:[(\\)]\":\"annoyed\",\n",
    "    u\">:/\":\"annoyed\",\n",
    "    u\":[(\\)]\":\"annoyed\",\n",
    "    u\"=/\":\"annoyed\",\n",
    "    u\"=[(\\)]\":\"annoyed\",\n",
    "    u\":L\":\"annoyed\",\n",
    "    u\"=L\":\"annoyed\",\n",
    "    u\":S\":\"annoyed\",\n",
    "    u\":‑|\":\"indecision\",\n",
    "    u\":|\":\"indecision\",\n",
    "    u\":$\":\"Embarrassed\",\n",
    "    u\":‑x\":\"Sealed lips or wearing braces or tongue-tied\",\n",
    "    u\":x\":\"Sealed lips or wearing braces or tongue-tied\",\n",
    "    u\":‑#\":\"Sealed lips or wearing braces or tongue-tied\",\n",
    "    u\":#\":\"Sealed lips or wearing braces or tongue-tied\",\n",
    "    u\":‑&\":\"Sealed lips or wearing braces or tongue-tied\",\n",
    "    u\":&\":\"Sealed lips or wearing braces or tongue-tied\",\n",
    "    u\"O:‑)\":\"Angel\",\n",
    "    u\"O:)\":\"Angel\",\n",
    "    u\"0:‑3\":\"Angel\",\n",
    "    u\"0:3\":\"Angel\",\n",
    "    u\"0:‑)\":\"Angel\",\n",
    "    u\"0:)\":\"Angel\",\n",
    "    u\":‑b\":\"fun\",\n",
    "    u\"0;^)\":\"Angel\",\n",
    "    u\">:‑)\":\"devilish\",\n",
    "    u\">:)\":\"devilish\",\n",
    "    u\"}:‑)\":\"devilish\",\n",
    "    u\"}:)\":\"devilish\",\n",
    "    u\"3:‑)\":\"devilish\",\n",
    "    u\"3:)\":\"devilish\",\n",
    "    u\">;)\":\"devilish\",\n",
    "    u\"|;‑)\":\"Cool\",\n",
    "    u\"|‑O\":\"Bored\",\n",
    "    u\":‑J\":\"Tongue in cheek\",\n",
    "    u\"#‑)\":\"Party all night\",\n",
    "    u\"%‑)\":\"confused\",\n",
    "    u\"%)\":\"confused\",\n",
    "    u\":-###..\":\"Being sick\",\n",
    "    u\":###..\":\"Being sick\",\n",
    "    u\"<:‑|\":\"silent\",\n",
    "    u\"(>_<)\":\"Troubled\",\n",
    "    u\"(>_<)>\":\"Troubled\",\n",
    "    u\"(';')\":\"Baby\",\n",
    "    u\"(^^>``\":\"Nervous\",\n",
    "    u\"(^_^;)\":\"Troubled\",\n",
    "    u\"(-_-;)\":\"Nervous\",\n",
    "    u\"(~_~;) (・.・;)\":\"Shy\",\n",
    "    u\"(-_-)zzz\":\"Sleeping\",\n",
    "    u\"(^_-)\":\"Wink\",\n",
    "    u\"((+_+))\":\"Confused\",\n",
    "    u\"(+o+)\":\"Confused\",\n",
    "    u\"(o|o)\":\"Ultraman\",\n",
    "    u\"^_^\":\"happy\",\n",
    "    u\"(^_^)/\":\"happy\",\n",
    "    u\"(^O^)／\":\"happy\",\n",
    "    u\"(^o^)／\":\"happy\",\n",
    "    u\"(__)\":\"Kowtow as a sign of respect, or dogeza for apology\",\n",
    "    u\"_(._.)_\":\"Kowtow as a sign of respect, or dogeza for apology\",\n",
    "    u\"<(_ _)>\":\"Kowtow as a sign of respect, or dogeza for apology\",\n",
    "    u\"<m(__)m>\":\"Kowtow as a sign of respect, or dogeza for apology\",\n",
    "    u\"m(__)m\":\"Kowtow as a sign of respect, or dogeza for apology\",\n",
    "    u\"m(_ _)m\":\"Kowtow as a sign of respect, or dogeza for apology\",\n",
    "    u\"('_')\":\"Sad\",\n",
    "    u\"(/_;)\":\"Sad\",\n",
    "    u\"(T_T) (;_;)\":\"Sad\",\n",
    "    u\"(;_;\":\"Sad\",\n",
    "    u\"(;_:)\":\"Sad\",\n",
    "    u\"(;O;)\":\"Sad\",\n",
    "    u\"(:_;)\":\"Sad\",\n",
    "    u\"(ToT)\":\"Sad\",\n",
    "    u\";_;\":\"Sad\",\n",
    "    u\";-;\":\"Sad\",\n",
    "    u\";n;\":\"Sad\",\n",
    "    u\";;\":\"Sad\",\n",
    "    u\"Q.Q\":\"Sad\",\n",
    "    u\"T.T\":\"Sad\",\n",
    "    u\"QQ\":\"Sad\",\n",
    "    u\"Q_Q\":\"Sad\",\n",
    "    u\"(-.-)\":\"Shame\",\n",
    "    u\"(-_-)\":\"Shame\",\n",
    "    u\"(一一)\":\"Shame\",\n",
    "    u\"(；一_一)\":\"Shame\",\n",
    "    u\"(=_=)\":\"Tired\",\n",
    "    u\"(=^·^=)\":\"cat\",\n",
    "    u\"(=^··^=)\":\"cat\",\n",
    "    u\"=_^= \":\"cat\",\n",
    "    u\"(..)\":\"Looking down\",\n",
    "    u\"(._.)\":\"Looking down\",\n",
    "    u\"^m^\":\"Giggling\",\n",
    "    u\"(・・?\":\"Confusion\",\n",
    "    u\"(?_?)\":\"Confusion\",\n",
    "    u\">^_^<\":\"Normal Laugh\",\n",
    "    u\"<^!^>\":\"Normal Laugh\",\n",
    "    u\"^/^\":\"Normal Laugh\",\n",
    "    u\"（*^_^*）\" :\"Normal Laugh\",\n",
    "    u\"(^<^) (^.^)\":\"Normal Laugh\",\n",
    "    u\"(^^)\":\"Normal Laugh\",\n",
    "    u\"(^.^)\":\"Normal Laugh\",\n",
    "    u\"(^_^.)\":\"Normal Laugh\",\n",
    "    u\"(^_^)\":\"Normal Laugh\",\n",
    "    u\"(^^)\":\"Normal Laugh\",\n",
    "    u\"(^J^)\":\"Normal Laugh\",\n",
    "    u\"(*^.^*)\":\"Normal Laugh\",\n",
    "    u\"(^—^）\":\"Normal Laugh\",\n",
    "    u\"(#^.^#)\":\"Normal Laugh\",\n",
    "    u\"（^—^）\":\"Waving\",\n",
    "    u\"(;_;)/~~~\":\"Waving\",\n",
    "    u\"(^.^)/~~~\":\"Waving\",\n",
    "    u\"(-_-)/~~~ ($··)/~~~\":\"Waving\",\n",
    "    u\"(T_T)/~~~\":\"Waving\",\n",
    "    u\"(ToT)/~~~\":\"Waving\",\n",
    "    u\"(*^0^*)\":\"Excited\",\n",
    "    u\"(*_*)\":\"Excited\",\n",
    "    u\"(*_*;\":\"Excited\",\n",
    "    u\"(+_+) (@_@)\":\"Excited\",\n",
    "    u\"(*^^)v\":\"Cheerful\",\n",
    "    u\"(^_^)v\":\"Cheerful\",\n",
    "    u\"((d[-_-]b))\":\"Headphones,Listening to music\",\n",
    "    u'(-\"-)':\"Worried\",\n",
    "    u\"(ーー;)\":\"Worried\",\n",
    "    u\"(^0_0^)\":\"Eyeglasses\",\n",
    "    u\"(＾ｖ＾)\":\"Happy\",\n",
    "    u\"(＾ｕ＾)\":\"Happy\",\n",
    "    u\"(^)o(^)\":\"Happy\",\n",
    "    u\"(^O^)\":\"Happy\",\n",
    "    u\"(^o^)\":\"Happy\",\n",
    "    u\")^o^(\":\"Happy\",\n",
    "    u\":O o_O\":\"Surprised\",\n",
    "    u\"o_0\":\"Surprised\",\n",
    "    u\"o.O\":\"Surpised\",\n",
    "    u\"(o.o)\":\"Surprised\",\n",
    "    u\"oO\":\"Surprised\",\n",
    "    u\"(*￣m￣)\":\"Dissatisfied\",\n",
    "    u\"(‘A`)\":\"Deflated\"\n",
    "\n",
    "}"
   ]
  },
  {
   "cell_type": "code",
   "execution_count": 36,
   "id": "9e0b3413",
   "metadata": {},
   "outputs": [],
   "source": [
    "def preprocess_text(tweet):\n",
    "    nan_tweet = 'NaN'  \n",
    "    # this code is to short unnecessary sentence, bec. some rows has unnecessary long repeated characters\n",
    "    # like 'HHHHHHHHHHHHHHHHHHHHHHHHHHHHHHHHHHHHHHHHHHHHHHHHHHHHHH'\n",
    "    # we manually decide len = 10 any with len >10 is discarded\n",
    "        # convert all text lowercase\n",
    "    tweet = tweet.lower() \n",
    "    tweet = tweet.split()\n",
    "    tw = []\n",
    "    for t in tweet:\n",
    "        # removing digits only\n",
    "        if t.isnumeric():\n",
    "            continue\n",
    "        else:\n",
    "            pass\n",
    "        if len(t)<=20:\n",
    "            if len(set(t))<=1:\n",
    "                continue\n",
    "            if sum(c.isdigit() for c in t) > sum(c.isalpha() for c in t):\n",
    "                continue\n",
    "            tw.append(t)\n",
    "    tweet = ' '.join(tw)   \n",
    "    # remove any urls\n",
    "    tweet = re.sub(r\"www\\S+|http\\S+|\", \"\",tweet, flags = re.MULTILINE)\n",
    "    # remove square bracket including its content if\n",
    "    tweet = re.sub(r'\\[|\\]',\" \",tweet)\n",
    "    # to remove new line character\n",
    "    tweet = re.sub(r'\\n', \" \", tweet)\n",
    "    # remove user @ references and '#' from tweet\n",
    "    tweet = re.sub(r\"\\@\\w+|\\#\", \"\",tweet)\n",
    "    # replace emojis with its meaning\n",
    "    tweet = (emoji.demojize(tweet, delimiters=(\" \", \"\"))).replace('_',' ')\n",
    "    # expand contractions\n",
    "    splitted_string = tweet.split()\n",
    "    for index, text in enumerate(splitted_string):\n",
    "        if text in CONTRACTIONS.keys():\n",
    "            splitted_string[index] = CONTRACTIONS[text]\n",
    "    tweet = ' '.join(splitted_string)\n",
    "    # replace emoticons with its meaning\n",
    "    splitted_tweet = tweet.split()\n",
    "    for index, word in enumerate(splitted_tweet):\n",
    "        if word in EMOTICONS.keys():\n",
    "            splitted_tweet[index] = EMOTICONS[word]\n",
    "    tweet = ' '.join(splitted_tweet)\n",
    "    # remove tags\n",
    "    tweet = re.sub(re.compile('<.*?>'), '', tweet)\n",
    "    # remove punctuations\n",
    "    tweet = tweet.translate(str.maketrans(\"\",\"\",string.punctuation))\n",
    "    # remove stopwords\n",
    "    tweet_tokens = word_tokenize(tweet)\n",
    "    filtered_words = [word for word in tweet_tokens if word not in stopwords_list]\n",
    "    # spelling correction\n",
    "    correct_words = []\n",
    "    # initialize Speller object for english language\n",
    "    spell_corrector = Speller(lang='en')\n",
    "    for word in filtered_words:\n",
    "        correct_word = spell_corrector(word)\n",
    "        correct_words.append(correct_word)\n",
    "    # lemmatizing\n",
    "    wnl = WordNetLemmatizer()\n",
    "    lemma_words = []\n",
    "    for word, tag in pos_tag(correct_words):      # Part-of-speech constants for ADJ,VERB,ADV = 'a', 'r', 'v'\n",
    "        if tag.startswith('JJ'):      # for adjectives\n",
    "            lemma_word = wnl.lemmatize(word, pos='a')\n",
    "            lemma_words.append(lemma_word)\n",
    "        elif tag.startswith('VB'):   # for verbs\n",
    "            lemma_word = wnl.lemmatize(word, pos='v')\n",
    "            lemma_words.append(lemma_word)\n",
    "        elif tag.startswith('RB'):   # for adverbs\n",
    "            lemma_word = wnl.lemmatize(word, pos='r')\n",
    "            lemma_words.append(lemma_word)\n",
    "        else:\n",
    "            lemma_word = word\n",
    "            lemma_words.append(lemma_word)\n",
    "        \n",
    "    tweet = \" \".join(lemma_words)\n",
    "    if len(tweet) == 0:   # if after pre-processing sent. has no letter\n",
    "        tweet = nan_tweet\n",
    "    return tweet"
   ]
  },
  {
   "cell_type": "code",
   "execution_count": 37,
   "id": "2786ca87-0f5a-4d77-93a2-b3db68e7b1d5",
   "metadata": {},
   "outputs": [],
   "source": [
    "from pandas_parallel_apply import DataFrameParallel, apply_on_df_col_parallel, apply_on_series_parallel"
   ]
  },
  {
   "cell_type": "code",
   "execution_count": 40,
   "id": "294ff223-35c5-474b-8116-d8d811757a66",
   "metadata": {},
   "outputs": [
    {
     "name": "stdout",
     "output_type": "stream",
     "text": [
      "INFO: Pandarallel will run on 64 workers.\n",
      "INFO: Pandarallel will use Memory file system to transfer data between the main process and workers.\n"
     ]
    }
   ],
   "source": [
    "from pandarallel import pandarallel\n",
    "pandarallel.initialize(progress_bar=True,nb_workers=64)"
   ]
  },
  {
   "cell_type": "code",
   "execution_count": null,
   "id": "b45ff584-3db6-4f3c-a135-18cfe85f5c77",
   "metadata": {
    "scrolled": true,
    "tags": []
   },
   "outputs": [],
   "source": [
    "t = time.time()\n",
    "xx = df_train['Text'].parallel_apply(preprocess_text) \n",
    "df_train.insert(loc = 4,\n",
    "        column = 'Pre Processed Text',\n",
    "        value = xx)\n",
    "# saving\n",
    "df_train.to_csv('processed_train.csv',index=False) # on train data, \n",
    "tt = time.time() - t\n",
    "print(f'{tt} sec')"
   ]
  },
  {
   "cell_type": "code",
   "execution_count": null,
   "id": "3d6eb80e-37f9-4828-9789-964919857a82",
   "metadata": {
    "scrolled": true,
    "tags": []
   },
   "outputs": [],
   "source": [
    "t = time.time()\n",
    "xtt = df_test['Text'].parallel_apply(preprocess_text) # on test data\n",
    "df_test.insert(loc = 4,\n",
    "        column = 'Pre Processed Text',\n",
    "        value = xtt)\n",
    "df_test.to_csv('processed_test.csv',index=False)\n",
    "tt = time.time() - t\n",
    "print(f'{tt} sec')"
   ]
  },
  {
   "cell_type": "code",
   "execution_count": null,
   "id": "68dae800-7f7e-4528-afeb-a51c7e107f69",
   "metadata": {},
   "outputs": [],
   "source": [
    "del df_train, df_test"
   ]
  },
  {
   "cell_type": "markdown",
   "id": "dedf1af5-6d72-4b48-970c-be78d5fa5d6e",
   "metadata": {},
   "source": [
    "### Reading the pre-processed csv"
   ]
  },
  {
   "cell_type": "code",
   "execution_count": 10,
   "id": "187c8f51-cbc9-4e9e-aa0a-2bdbf7351295",
   "metadata": {},
   "outputs": [],
   "source": [
    "df_prepro_train = pd.read_csv('processed_train.csv',na_filter=False)"
   ]
  },
  {
   "cell_type": "code",
   "execution_count": 10,
   "id": "14f1bd31-af72-4b98-a42c-4bc17027e221",
   "metadata": {},
   "outputs": [
    {
     "name": "stdout",
     "output_type": "stream",
     "text": [
      "(808661, 6)\n"
     ]
    },
    {
     "data": {
      "text/html": [
       "<div>\n",
       "<style scoped>\n",
       "    .dataframe tbody tr th:only-of-type {\n",
       "        vertical-align: middle;\n",
       "    }\n",
       "\n",
       "    .dataframe tbody tr th {\n",
       "        vertical-align: top;\n",
       "    }\n",
       "\n",
       "    .dataframe thead th {\n",
       "        text-align: right;\n",
       "    }\n",
       "</style>\n",
       "<table border=\"1\" class=\"dataframe\">\n",
       "  <thead>\n",
       "    <tr style=\"text-align: right;\">\n",
       "      <th></th>\n",
       "      <th>ID</th>\n",
       "      <th>Comments</th>\n",
       "      <th>Parent Comments</th>\n",
       "      <th>Text</th>\n",
       "      <th>Pre Processed Text</th>\n",
       "      <th>Class Labels</th>\n",
       "    </tr>\n",
       "  </thead>\n",
       "  <tbody>\n",
       "    <tr>\n",
       "      <th>0</th>\n",
       "      <td>ocxtitan</td>\n",
       "      <td>Central Illinois</td>\n",
       "      <td>Jesus; where do you live?</td>\n",
       "      <td>Jesus; where do you live? Central Illinois</td>\n",
       "      <td>jesus live central illinois</td>\n",
       "      <td>non-sarcastic</td>\n",
       "    </tr>\n",
       "    <tr>\n",
       "      <th>1</th>\n",
       "      <td>LeChuckly</td>\n",
       "      <td>To think - CNN used to be the acronym synonymo...</td>\n",
       "      <td>Even The CNN Staff Is Sick Of The Wall-To-Wall...</td>\n",
       "      <td>Even The CNN Staff Is Sick Of The Wall-To-Wall...</td>\n",
       "      <td>even cnn staff sick walltowall trump coverage ...</td>\n",
       "      <td>non-sarcastic</td>\n",
       "    </tr>\n",
       "    <tr>\n",
       "      <th>2</th>\n",
       "      <td>throwitskrub8</td>\n",
       "      <td>But then again; you have to consider that all ...</td>\n",
       "      <td>agree to that part.It can also mean that gujra...</td>\n",
       "      <td>agree to that part.It can also mean that gujra...</td>\n",
       "      <td>agree parti also mean gujarat husbands good su...</td>\n",
       "      <td>non-sarcastic</td>\n",
       "    </tr>\n",
       "    <tr>\n",
       "      <th>3</th>\n",
       "      <td>fresherthanyouuu</td>\n",
       "      <td>ughhhhh</td>\n",
       "      <td>If a guy told you he doesn't use social media ...</td>\n",
       "      <td>If a guy told you he doesn't use social media ...</td>\n",
       "      <td>guy tell use social media go head ughhhhh</td>\n",
       "      <td>non-sarcastic</td>\n",
       "    </tr>\n",
       "    <tr>\n",
       "      <th>4</th>\n",
       "      <td>_kushagra</td>\n",
       "      <td>I should've put the</td>\n",
       "      <td>No; it's just a programming bug. After all; th...</td>\n",
       "      <td>No; it's just a programming bug. After all; th...</td>\n",
       "      <td>program bug android app music service still be...</td>\n",
       "      <td>sarcastic</td>\n",
       "    </tr>\n",
       "  </tbody>\n",
       "</table>\n",
       "</div>"
      ],
      "text/plain": [
       "                 ID                                           Comments  \\\n",
       "0          ocxtitan                                   Central Illinois   \n",
       "1         LeChuckly  To think - CNN used to be the acronym synonymo...   \n",
       "2     throwitskrub8  But then again; you have to consider that all ...   \n",
       "3  fresherthanyouuu                                            ughhhhh   \n",
       "4         _kushagra                                I should've put the   \n",
       "\n",
       "                                     Parent Comments  \\\n",
       "0                          Jesus; where do you live?   \n",
       "1  Even The CNN Staff Is Sick Of The Wall-To-Wall...   \n",
       "2  agree to that part.It can also mean that gujra...   \n",
       "3  If a guy told you he doesn't use social media ...   \n",
       "4  No; it's just a programming bug. After all; th...   \n",
       "\n",
       "                                                Text  \\\n",
       "0         Jesus; where do you live? Central Illinois   \n",
       "1  Even The CNN Staff Is Sick Of The Wall-To-Wall...   \n",
       "2  agree to that part.It can also mean that gujra...   \n",
       "3  If a guy told you he doesn't use social media ...   \n",
       "4  No; it's just a programming bug. After all; th...   \n",
       "\n",
       "                                  Pre Processed Text   Class Labels  \n",
       "0                        jesus live central illinois  non-sarcastic  \n",
       "1  even cnn staff sick walltowall trump coverage ...  non-sarcastic  \n",
       "2  agree parti also mean gujarat husbands good su...  non-sarcastic  \n",
       "3          guy tell use social media go head ughhhhh  non-sarcastic  \n",
       "4  program bug android app music service still be...      sarcastic  "
      ]
     },
     "execution_count": 10,
     "metadata": {},
     "output_type": "execute_result"
    }
   ],
   "source": [
    "print(df_prepro_train.shape)\n",
    "df_prepro_train.head()"
   ]
  },
  {
   "cell_type": "code",
   "execution_count": 16,
   "id": "e410647c-a815-4cd3-9c87-aead0497a215",
   "metadata": {},
   "outputs": [
    {
     "data": {
      "text/plain": [
       "ID                    0\n",
       "Comments              0\n",
       "Parent Comments       0\n",
       "Text                  0\n",
       "Pre Processed Text    0\n",
       "Class Labels          0\n",
       "dtype: int64"
      ]
     },
     "execution_count": 16,
     "metadata": {},
     "output_type": "execute_result"
    }
   ],
   "source": [
    "df_prepro_train.isna().sum()"
   ]
  },
  {
   "cell_type": "code",
   "execution_count": 11,
   "id": "95c725b7",
   "metadata": {},
   "outputs": [
    {
     "name": "stdout",
     "output_type": "stream",
     "text": [
      "(202166, 5)\n"
     ]
    },
    {
     "data": {
      "text/html": [
       "<div>\n",
       "<style scoped>\n",
       "    .dataframe tbody tr th:only-of-type {\n",
       "        vertical-align: middle;\n",
       "    }\n",
       "\n",
       "    .dataframe tbody tr th {\n",
       "        vertical-align: top;\n",
       "    }\n",
       "\n",
       "    .dataframe thead th {\n",
       "        text-align: right;\n",
       "    }\n",
       "</style>\n",
       "<table border=\"1\" class=\"dataframe\">\n",
       "  <thead>\n",
       "    <tr style=\"text-align: right;\">\n",
       "      <th></th>\n",
       "      <th>ID</th>\n",
       "      <th>Comments</th>\n",
       "      <th>Parent Comments</th>\n",
       "      <th>Text</th>\n",
       "      <th>Pre Processed Text</th>\n",
       "    </tr>\n",
       "  </thead>\n",
       "  <tbody>\n",
       "    <tr>\n",
       "      <th>0</th>\n",
       "      <td>theyoungthaddeus</td>\n",
       "      <td>No one \"needs\" an assault foam dart blaster</td>\n",
       "      <td>Your son has to register those at the county j...</td>\n",
       "      <td>Your son has to register those at the county j...</td>\n",
       "      <td>son register county jungle gym mags hold ounce...</td>\n",
       "    </tr>\n",
       "    <tr>\n",
       "      <th>1</th>\n",
       "      <td>Just_an_asian_here</td>\n",
       "      <td>Cause all attractive women are uninteresting a...</td>\n",
       "      <td>Likely due to creative and interesting content.</td>\n",
       "      <td>Likely due to creative and interesting content...</td>\n",
       "      <td>likely due creative interesting content cause ...</td>\n",
       "    </tr>\n",
       "    <tr>\n",
       "      <th>2</th>\n",
       "      <td>Foxprowl</td>\n",
       "      <td>Poser.</td>\n",
       "      <td>Jon Stewart is going to HBO</td>\n",
       "      <td>Jon Stewart is going to HBO Poser.</td>\n",
       "      <td>jon stewart go hbo power</td>\n",
       "    </tr>\n",
       "    <tr>\n",
       "      <th>3</th>\n",
       "      <td>kd7rzv</td>\n",
       "      <td>Won't be long and Anet will start banning peop...</td>\n",
       "      <td>This post looks like bullshit market manipulat...</td>\n",
       "      <td>This post looks like bullshit market manipulat...</td>\n",
       "      <td>post looks like bullshit market manipulation w...</td>\n",
       "    </tr>\n",
       "    <tr>\n",
       "      <th>4</th>\n",
       "      <td>Ellefied</td>\n",
       "      <td>There goes my hope that Kubo does a Kojima as ...</td>\n",
       "      <td>Plus the Japanese typically do not talk shit w...</td>\n",
       "      <td>Plus the Japanese typically do not talk shit w...</td>\n",
       "      <td>plus japanese typically talk shit come busines...</td>\n",
       "    </tr>\n",
       "  </tbody>\n",
       "</table>\n",
       "</div>"
      ],
      "text/plain": [
       "                   ID                                           Comments  \\\n",
       "0    theyoungthaddeus        No one \"needs\" an assault foam dart blaster   \n",
       "1  Just_an_asian_here  Cause all attractive women are uninteresting a...   \n",
       "2            Foxprowl                                             Poser.   \n",
       "3              kd7rzv  Won't be long and Anet will start banning peop...   \n",
       "4            Ellefied  There goes my hope that Kubo does a Kojima as ...   \n",
       "\n",
       "                                     Parent Comments  \\\n",
       "0  Your son has to register those at the county j...   \n",
       "1    Likely due to creative and interesting content.   \n",
       "2                        Jon Stewart is going to HBO   \n",
       "3  This post looks like bullshit market manipulat...   \n",
       "4  Plus the Japanese typically do not talk shit w...   \n",
       "\n",
       "                                                Text  \\\n",
       "0  Your son has to register those at the county j...   \n",
       "1  Likely due to creative and interesting content...   \n",
       "2                 Jon Stewart is going to HBO Poser.   \n",
       "3  This post looks like bullshit market manipulat...   \n",
       "4  Plus the Japanese typically do not talk shit w...   \n",
       "\n",
       "                                  Pre Processed Text  \n",
       "0  son register county jungle gym mags hold ounce...  \n",
       "1  likely due creative interesting content cause ...  \n",
       "2                           jon stewart go hbo power  \n",
       "3  post looks like bullshit market manipulation w...  \n",
       "4  plus japanese typically talk shit come busines...  "
      ]
     },
     "execution_count": 11,
     "metadata": {},
     "output_type": "execute_result"
    }
   ],
   "source": [
    "# test\n",
    "df_prepro_test = pd.read_csv('processed_test.csv',na_filter=False)\n",
    "print(df_prepro_test.shape)\n",
    "df_prepro_test.head()"
   ]
  },
  {
   "cell_type": "code",
   "execution_count": 18,
   "id": "61e2e255-b4d9-4573-a536-9f7892d3ea98",
   "metadata": {},
   "outputs": [
    {
     "data": {
      "text/plain": [
       "ID                    0\n",
       "Comments              0\n",
       "Parent Comments       0\n",
       "Text                  0\n",
       "Pre Processed Text    0\n",
       "dtype: int64"
      ]
     },
     "execution_count": 18,
     "metadata": {},
     "output_type": "execute_result"
    }
   ],
   "source": [
    "df_prepro_test.isna().sum()"
   ]
  },
  {
   "cell_type": "code",
   "execution_count": 12,
   "id": "cd6dff77-ac97-4700-b15f-f4b9c92709ff",
   "metadata": {},
   "outputs": [],
   "source": [
    "# Train data\n",
    "X = df_prepro_train['Pre Processed Text']\n",
    "y_trn = df_prepro_train['Class Labels']"
   ]
  },
  {
   "cell_type": "code",
   "execution_count": null,
   "id": "277a0e72-df4c-4ed0-a3b3-4a05af684a59",
   "metadata": {},
   "outputs": [],
   "source": [
    "# Test data\n",
    "X_test = df_prepro_test['Pre Processed Text']"
   ]
  },
  {
   "cell_type": "code",
   "execution_count": 13,
   "id": "c68e5bf0-e447-494f-ba66-0c9a9f0c4852",
   "metadata": {},
   "outputs": [],
   "source": [
    "# converting Labels coloumn into numerical form of train data\n",
    "encoder = LabelEncoder()\n",
    "y = encoder.fit_transform(y_trn)"
   ]
  },
  {
   "cell_type": "code",
   "execution_count": 21,
   "id": "b1bb816b-18c9-481a-937e-5abb848f1373",
   "metadata": {},
   "outputs": [
    {
     "data": {
      "text/plain": [
       "array(['non-sarcastic', 'sarcastic'], dtype=object)"
      ]
     },
     "execution_count": 21,
     "metadata": {},
     "output_type": "execute_result"
    }
   ],
   "source": [
    "encoder.classes_"
   ]
  },
  {
   "cell_type": "code",
   "execution_count": 22,
   "id": "43446706-769f-4c91-bee1-c7fc710c68a5",
   "metadata": {},
   "outputs": [
    {
     "data": {
      "text/plain": [
       "array([0, 1])"
      ]
     },
     "execution_count": 22,
     "metadata": {},
     "output_type": "execute_result"
    }
   ],
   "source": [
    "np.unique(y)"
   ]
  },
  {
   "cell_type": "code",
   "execution_count": 14,
   "id": "156f8075-57cb-47f8-84b7-7e955f20256c",
   "metadata": {},
   "outputs": [
    {
     "data": {
      "text/plain": [
       "((646928,), (161733,))"
      ]
     },
     "execution_count": 14,
     "metadata": {},
     "output_type": "execute_result"
    }
   ],
   "source": [
    "# train validation split of data\n",
    "X_train, X_valid, y_train, y_valid = train_test_split(X, y, test_size=0.20, random_state=3,stratify=y)\n",
    "X_train.shape,X_valid.shape"
   ]
  },
  {
   "cell_type": "code",
   "execution_count": null,
   "id": "c8c1a2b2-3400-402c-b0e7-a87dd934108b",
   "metadata": {},
   "outputs": [],
   "source": []
  },
  {
   "cell_type": "markdown",
   "id": "6c6c6da2-aeff-4372-bddf-d57d82f06cc7",
   "metadata": {},
   "source": [
    "# BoW"
   ]
  },
  {
   "cell_type": "code",
   "execution_count": 24,
   "id": "fa98cf60-5a93-4193-973e-57a1b72ff6b9",
   "metadata": {},
   "outputs": [],
   "source": [
    "CV = CountVectorizer(ngram_range=(1,3),max_features=100000) # (1,3) means Unigrams, Bigrams and Trigrams\n",
    "X_train_bow = sp.csr_matrix(CV.fit_transform(X_train))  # compressing the data to use less memory "
   ]
  },
  {
   "cell_type": "code",
   "execution_count": 29,
   "id": "7933e5c7-a170-45d7-97f7-ff9972ba2f57",
   "metadata": {},
   "outputs": [
    {
     "name": "stdout",
     "output_type": "stream",
     "text": [
      "(646928, 100000)\n"
     ]
    },
    {
     "data": {
      "text/plain": [
       "['X_train_bow.joblib']"
      ]
     },
     "execution_count": 29,
     "metadata": {},
     "output_type": "execute_result"
    }
   ],
   "source": [
    "print(X_train_bow.shape)\n",
    "joblib.dump(X_train_bow.tocsr(), 'X_train_bow.joblib')"
   ]
  },
  {
   "cell_type": "code",
   "execution_count": 26,
   "id": "19fc0675-6861-4674-9af6-3fe3cc97e015",
   "metadata": {},
   "outputs": [
    {
     "name": "stdout",
     "output_type": "stream",
     "text": [
      "62\n"
     ]
    }
   ],
   "source": [
    "num_cores = multiprocessing.cpu_count()\n",
    "num_partitions = num_cores-2 # leave some cores for other processes\n",
    "print(num_partitions)\n",
    "\n",
    "def parallelize_dataframe(df, func):\n",
    "    a = np.array_split(df, num_partitions)\n",
    "    del df\n",
    "    pool = Pool(num_cores)\n",
    "    df = sp.vstack(pool.map(func,a), format='csr')\n",
    "    pool.close()\n",
    "    pool.join()\n",
    "    return df\n",
    "\n",
    "def test_func2(data,cv=CV,train=False):\n",
    "    X_bow = cv.transform(data)\n",
    "    return X_bow"
   ]
  },
  {
   "cell_type": "code",
   "execution_count": 30,
   "id": "e4d4f36a-9065-46d5-a447-9d117fa96000",
   "metadata": {},
   "outputs": [
    {
     "name": "stdout",
     "output_type": "stream",
     "text": [
      "(161733, 100000)\n"
     ]
    },
    {
     "data": {
      "text/plain": [
       "['X_valid_bow.joblib']"
      ]
     },
     "execution_count": 30,
     "metadata": {},
     "output_type": "execute_result"
    }
   ],
   "source": [
    "# X_valid_bow = parallelize_dataframe(X_valid, test_func2)\n",
    "X_valid_bow = test_func2(X_valid)\n",
    "print(X_valid_bow.shape)\n",
    "joblib.dump(X_valid_bow.tocsr(), 'X_valid_bow.joblib')"
   ]
  },
  {
   "cell_type": "code",
   "execution_count": 31,
   "id": "e7423f50-9309-419a-b46b-eca5923bbf53",
   "metadata": {},
   "outputs": [
    {
     "name": "stdout",
     "output_type": "stream",
     "text": [
      "(202166, 100000)\n"
     ]
    },
    {
     "data": {
      "text/plain": [
       "['X_test_bow.joblib']"
      ]
     },
     "execution_count": 31,
     "metadata": {},
     "output_type": "execute_result"
    }
   ],
   "source": [
    "#X_test_bow = parallelize_dataframe(X_test, test_func2)\n",
    "X_test_bow = test_func2(X_test)\n",
    "print(X_test_bow.shape)\n",
    "joblib.dump(X_test_bow.tocsr(), 'X_test_bow.joblib')"
   ]
  },
  {
   "cell_type": "code",
   "execution_count": 32,
   "id": "a737dccc-ba37-401e-af6f-624e4a1deea7",
   "metadata": {},
   "outputs": [],
   "source": [
    "del X_train_bow,X_valid_bow,X_test_bow # deleting the variable for freeing memory"
   ]
  },
  {
   "cell_type": "code",
   "execution_count": null,
   "id": "4a0521d4-78a4-4620-992d-c6c7b8baff4e",
   "metadata": {},
   "outputs": [],
   "source": []
  },
  {
   "cell_type": "markdown",
   "id": "b5f7147c-5ae5-4504-8eea-6056ceec4b51",
   "metadata": {},
   "source": [
    "# tf-idf"
   ]
  },
  {
   "cell_type": "code",
   "execution_count": 33,
   "id": "48714281-3791-42c1-be09-eacee071ad30",
   "metadata": {},
   "outputs": [],
   "source": [
    "tfidf = TfidfVectorizer(ngram_range=(1,3),max_features=100000,use_idf=True,smooth_idf=True)\n",
    "X_train_tfidf = sp.csr_matrix(tfidf.fit_transform(X_train))"
   ]
  },
  {
   "cell_type": "code",
   "execution_count": 34,
   "id": "25c32fa0-2274-4ad3-a859-2d8deb23d402",
   "metadata": {},
   "outputs": [
    {
     "name": "stdout",
     "output_type": "stream",
     "text": [
      "(646928, 100000)\n"
     ]
    },
    {
     "data": {
      "text/plain": [
       "['X_train_tfidf.joblib']"
      ]
     },
     "execution_count": 34,
     "metadata": {},
     "output_type": "execute_result"
    }
   ],
   "source": [
    "print(X_train_tfidf.shape)\n",
    "joblib.dump(X_train_tfidf.tocsr(), 'X_train_tfidf.joblib')"
   ]
  },
  {
   "cell_type": "code",
   "execution_count": 35,
   "id": "8c7d7ab8-264b-470a-a388-32b047a45d80",
   "metadata": {},
   "outputs": [
    {
     "name": "stdout",
     "output_type": "stream",
     "text": [
      "62\n"
     ]
    }
   ],
   "source": [
    "num_cores = multiprocessing.cpu_count()\n",
    "num_partitions = num_cores-2 # leave some cores for other processes\n",
    "print(num_partitions)\n",
    "\n",
    "def parallelize_dataframe(df, func):\n",
    "    a = np.array_split(df, num_partitions)\n",
    "    del df\n",
    "    pool = Pool(num_cores)\n",
    "    df = sp.vstack(pool.map(func,a), format='csr')\n",
    "    pool.close()\n",
    "    pool.join()\n",
    "    return df\n",
    "\n",
    "def test_func2(data,cv=tfidf,train=False):\n",
    "    X_bow = cv.transform(data)\n",
    "    return X_bow"
   ]
  },
  {
   "cell_type": "code",
   "execution_count": 36,
   "id": "f20af5ba-15d7-48b5-90a2-9c80e35d51b7",
   "metadata": {},
   "outputs": [
    {
     "name": "stdout",
     "output_type": "stream",
     "text": [
      "(161733, 100000)\n"
     ]
    },
    {
     "data": {
      "text/plain": [
       "['X_valid_tfidf.joblib']"
      ]
     },
     "execution_count": 36,
     "metadata": {},
     "output_type": "execute_result"
    }
   ],
   "source": [
    "# X_valid_bow = parallelize_dataframe(X_valid, test_func2)\n",
    "X_valid_tfidf = test_func2(X_valid)\n",
    "print(X_valid_tfidf.shape)\n",
    "joblib.dump(X_valid_tfidf.tocsr(), 'X_valid_tfidf.joblib')"
   ]
  },
  {
   "cell_type": "code",
   "execution_count": 37,
   "id": "3ac1ce07-4817-4d0d-9fa6-202b66a8ec49",
   "metadata": {},
   "outputs": [
    {
     "name": "stdout",
     "output_type": "stream",
     "text": [
      "(202166, 100000)\n"
     ]
    },
    {
     "data": {
      "text/plain": [
       "['X_test_tfidf.joblib']"
      ]
     },
     "execution_count": 37,
     "metadata": {},
     "output_type": "execute_result"
    }
   ],
   "source": [
    "# X_valid_bow = parallelize_dataframe(X_valid, test_func2)\n",
    "X_test_tfidf = test_func2(X_test)\n",
    "print(X_test_tfidf.shape)\n",
    "joblib.dump(X_test_tfidf.tocsr(), 'X_test_tfidf.joblib')"
   ]
  },
  {
   "cell_type": "code",
   "execution_count": 38,
   "id": "ee90268f-2f78-49a3-8150-6e34e25e8a98",
   "metadata": {},
   "outputs": [],
   "source": [
    "del X_train_tfidf,X_valid_tfidf,X_test_tfidf"
   ]
  },
  {
   "cell_type": "markdown",
   "id": "2dac4669-0e68-409e-80f2-529a93445719",
   "metadata": {},
   "source": [
    "# word embedding"
   ]
  },
  {
   "cell_type": "markdown",
   "id": "7a8d15a3-77f0-4c81-899a-d8d69ff23b8b",
   "metadata": {},
   "source": [
    "### Word2Vec / Doc2Vec"
   ]
  },
  {
   "cell_type": "code",
   "execution_count": 45,
   "id": "1eab65f5",
   "metadata": {},
   "outputs": [],
   "source": [
    "import en_core_web_lg\n",
    "nlp = en_core_web_lg.load()"
   ]
  },
  {
   "cell_type": "code",
   "execution_count": 46,
   "id": "04c3a97b-1ca0-4660-9625-a5e246061c97",
   "metadata": {},
   "outputs": [],
   "source": [
    "def word2vec_spacy(X):\n",
    "    w2v_spacy = []\n",
    "    for item in X.values: # .values returns dataframe rows as list, eg. 1st sentence as ['he is good']\n",
    "        doc = nlp(item)\n",
    "        w2v_spacy.append(doc.vector)\n",
    "    w2v_spacy = np.array(w2v_spacy)\n",
    "    return w2v_spacy"
   ]
  },
  {
   "cell_type": "code",
   "execution_count": null,
   "id": "14a12c1e-0026-4396-aa64-4dc9e718ab0e",
   "metadata": {},
   "outputs": [],
   "source": [
    "# on train data\n",
    "w2v_spacy_train = word2vec_spacy(X_train)"
   ]
  },
  {
   "cell_type": "code",
   "execution_count": null,
   "id": "a601fb92-d2b5-4967-9d3d-63817d6ce137",
   "metadata": {},
   "outputs": [],
   "source": [
    "print(w2v_spacy_train.shape)\n",
    "w2v_spacy_train = sp.csr_matrix(w2v_spacy_train)"
   ]
  },
  {
   "cell_type": "code",
   "execution_count": null,
   "id": "77b3b74c-28df-4169-85a8-7d5791aa91cd",
   "metadata": {},
   "outputs": [],
   "source": [
    "# on validation data\n",
    "w2v_spacy_valid = word2vec_spacy(X_valid)\n",
    "print(w2v_spacy_valid.shape)\n",
    "w2v_spacy_valid = sp.csr_matrix(w2v_spacy_valid)"
   ]
  },
  {
   "cell_type": "code",
   "execution_count": null,
   "id": "5e1cfff1-fa6b-4a1b-94b4-79631fffb099",
   "metadata": {},
   "outputs": [],
   "source": [
    "# on test data\n",
    "w2v_spacy_test = word2vec_spacy(X_test)\n",
    "print(w2v_spacy_test.shape)\n",
    "w2v_spacy_test = sp.csr_matrix(w2v_spacy_test)"
   ]
  },
  {
   "cell_type": "code",
   "execution_count": null,
   "id": "19162293-da87-4c7e-a885-fd090faa7a7a",
   "metadata": {},
   "outputs": [],
   "source": [
    "joblib.dump(w2v_spacy_train.tocsr(), 'w2v_spacy_train.joblib')\n",
    "joblib.dump(w2v_spacy_valid.tocsr(), 'w2v_spacy_valid.joblib')\n",
    "joblib.dump(w2v_spacy_test.tocsr(), 'w2v_spacy_test.joblib')\n",
    "del w2v_spacy_train,w2v_spacy_valid,w2v_spacy_test"
   ]
  },
  {
   "cell_type": "markdown",
   "id": "b06a94c6-8cff-4816-ba5d-18445b89a398",
   "metadata": {},
   "source": [
    "# Models"
   ]
  },
  {
   "cell_type": "code",
   "execution_count": 29,
   "id": "d971578a-2108-4b1a-a4a2-9111553ca708",
   "metadata": {},
   "outputs": [],
   "source": [
    "def Classification(X_train, X_test, y_train, y_test,file_name:str,method:str,Gridsearch = False,fs:str=None,model:str='all',cv=5):\n",
    "    # try:\n",
    "    #     y_train = y_train.values.ravel()\n",
    "    #     y_test = y_test.values.ravel()\n",
    "    # except:\n",
    "    #     pass\n",
    "    with open(file_name+'.txt','a') as f:     \n",
    "        file_size = os.stat(f'{file_name}.txt').st_size\n",
    "        if file_size == 0:\n",
    "            print(f\"New File Created: {file_name}.txt\")\n",
    "            f.write(\"method, Model, Accuracy, f1_micro, f1_macro,other_info \\n\")\n",
    "        else:\n",
    "            print(f\"Existing file found: Appending to File: {file_name}.txt\")       \n",
    "        f.close()\n",
    "        \n",
    "    \n",
    "    \n",
    "\n",
    "    assert fs in ['pca','chi2','mi',None], f'feature selection should be {{\"pca\",\"chi2\",\"mi\",None}}. got:{fs}'\n",
    "    mdls = ['knn','lr','dtree','rf','svm','mnb','all']\n",
    "    assert model in mdls, f\"model should be {{'all','lr','svm','knn','dtree','rf','mnb'}} but got : {model}\"\n",
    "    \n",
    "    \n",
    "    n_comp = 'fsp__k'\n",
    "    if fs == 'mi' :\n",
    "        fsl =  SelectKBest(score_func = mutual_info_classif)\n",
    "        fslk =  [10000]\n",
    "    elif fs == 'chi2':\n",
    "        fsl =  SelectKBest(chi2)\n",
    "        fslk = [10000]\n",
    "    elif fs == 'pca':\n",
    "        n_comp = 'fsp__n_components'\n",
    "        if isinstance(X_train,sp.csr_matrix):\n",
    "            print('using TruncatedSVD as input is sparse')\n",
    "            fsl = TruncatedSVD()\n",
    "            fslk = [5000,10000]\n",
    "            \n",
    "        else:\n",
    "            fsl =  PCA(svd_solver = 'full')\n",
    "            fslk = [0.95]\n",
    "            \n",
    "    elif fs==None:\n",
    "        fsl = None\n",
    "        \n",
    "    \n",
    "    \n",
    "    classifiers = [\n",
    "    KNeighborsClassifier(),\n",
    "    SGDClassifier(n_jobs=-1,loss='log_loss'),\n",
    "    DecisionTreeClassifier(),     \n",
    "    RandomForestClassifier(),\n",
    "        # AdaBoostClassifier(),\n",
    "#         GradientBoostingClassifier(),\n",
    "    SGDClassifier(n_jobs=-1,early_stopping=True,loss='hinge'),\n",
    "    MultinomialNB()\n",
    "        \n",
    "    ]\n",
    "    if Gridsearch ==True:\n",
    "        clf_parameters = [\n",
    "            {\n",
    "                \"clf__n_neighbors\": [1000,5000,],#np.arange(2,25 ,10),\n",
    "                \"clf__metric\": [\"l1\",\"cosine\"],\n",
    "                \"clf__weights\": [\"uniform\", \"distance\"],\n",
    "         },\n",
    "        {\n",
    "               'clf__penalty':['l1', 'l2'],\n",
    "            'clf__alpha':[0.001,0.01,0.1]\n",
    "        },\n",
    "        {\n",
    "                'clf__criterion' : [\"gini\", \"entropy\"], \n",
    "            # 'clf__max_features':['sqrt', 'log2'],\n",
    "                    'clf__max_depth':[50,100,],\n",
    "                    #'clf__ccp_alpha':np.logspace(-3,-2,20),#np.logspace(-2.32,-2.3,20),\n",
    "            \"clf__max_leaf_nodes\" : [100],\n",
    "\n",
    "            # \"clf__splitter\" : [\"best\", \"random\"],\n",
    "            #\"clf__min_samples_split\":np.arange(2,50,10)\n",
    "        },\n",
    "        {\n",
    "                 'clf__n_estimators': [80,100],\n",
    "            # 'clf__max_features': ['sqrt', 'log2'],\n",
    "            'clf__max_depth' : [50,100],#np.arange(4,15,2).tolist(),\n",
    "            'clf__criterion' :['gini', 'entropy']   ,\n",
    "                'clf__bootstrap' :[True],\n",
    "        #         'clf__ccp_alpha':np.logspace(-2,1,10)\n",
    "        },\n",
    "#             {\n",
    "#                 'clf__base_estimator':[RandomForestClassifier(),DecisionTreeClassifier(criterion='entropy'),SVC(),LogisticRegression(**{'C': 0.017433288221999882, 'penalty': 'l2', 'solver': 'newton-cg'})],\n",
    "#                 'clf__algorithm' : ['SAMME', 'SAMME.R'],\n",
    "#                 'clf__n_estimators': [50,100]\n",
    "#             },\n",
    "#             {\n",
    "#               'clf__loss' :['deviance', 'exponential'],\n",
    "#                 'clf__criterion' : ['friedman_mse', 'squared_error'],\n",
    "#                 'clf__max_features' : [ 'sqrt', 'log2'],\n",
    "#                 'clf__learning_rate': np.logspace(-1,1,5),\n",
    "#                 'clf__n_estimators':np.arange(100,1000,200)\n",
    "\n",
    "#             },\n",
    "            {\n",
    "                'clf__loss' :['hinge' ,'squared_hinge', 'perceptron'],\n",
    "                'clf__alpha':[0.001,0.01,0.1,]\n",
    "                #'clf__early_stopping':[True],\n",
    "                \n",
    "            },\n",
    "            {\n",
    "                'clf__alpha':[0] + np.logspace(-2,5,5).tolist(),\n",
    "                \n",
    "            }\n",
    "        ]\n",
    "    else:\n",
    "        clf_parameters = [{}]*(len(mdls)-1)\n",
    "    # data[name] = {'Model':[],'Accuracy' :[],'f1_micro' :[],'f1_macro' :[]}\n",
    "    # dataint = {'Model':[],'Accuracy' :[],'f1_micro' :[],'f1_macro' :[]}\n",
    "    \n",
    "    i=1\n",
    "    def fit(i,file_name):\n",
    "        if fs!=None:\n",
    "                clf_params[n_comp] = fslk                \n",
    "                pipe = Pipeline(steps = [('fsp', fsl),('clf', classifier)])\n",
    "        else:\n",
    "            pipe = Pipeline(steps=[('clf', classifier)])\n",
    "        grid = GridSearchCV(pipe,clf_params,scoring='f1_macro',cv=cv,n_jobs=-1,verbose=1) #early_stopping=False,use_gpu=True)  \n",
    "        try:\n",
    "            grid.fit(X_train, y_train)   \n",
    "            pred = grid.predict(X_test)\n",
    "            print(\"_\"*32)\n",
    "            print(f'{i}.',classifier)\n",
    "            print(\"_\"*32)\n",
    "            print(grid.best_params_)\n",
    "            print(classification_report(y_test, pred))\n",
    "            i1 = classifier.__class__.__name__\n",
    "            i2 = sklearn.metrics.accuracy_score(y_test,pred)\n",
    "            i3 = sklearn.metrics.f1_score(y_test,pred,average='micro')\n",
    "            i4 = sklearn.metrics.f1_score(y_test,pred,average='macro')\n",
    "            with open(f'{file_name}.txt','a') as f:\n",
    "                f.writelines(f'{method},{i1},{i2},{i3},{i4},{f\"model:{model};Gridsearch:{Gridsearch};cv:{cv};fs:{fs};best_param:{grid.best_params_}\"} \\n')\n",
    "                f.close()\n",
    "            # dataint['Model'].append(i1)\n",
    "            # dataint['Accuracy'].append(i2)\n",
    "            # dataint['f1_micro'].append(i3)\n",
    "            # dataint['f1_macro'].append(i4)\n",
    "            print(\"-\"*80)\n",
    "            print(\"-\"*80)\n",
    "            # data[name] = dataint\n",
    "\n",
    "        except Exception as e: print(e)\n",
    "        return grid\n",
    "    \n",
    "    if model =='all':        \n",
    "        for classifier,clf_params in zip(classifiers,clf_parameters):\n",
    "            fit(i,file_name)\n",
    "            i+=1\n",
    "    else:\n",
    "        _ = mdls.index(model)\n",
    "        # print(_,len(clf_parameters))\n",
    "        classifier,clf_params = classifiers[_],clf_parameters[_]\n",
    "        # print(classifier.get_params())\n",
    "        fit(i,file_name)\n",
    "        \n"
   ]
  },
  {
   "cell_type": "markdown",
   "id": "1a081508-7cc0-4fad-a5d5-6e23ba71d7c4",
   "metadata": {},
   "source": [
    "#### BoW"
   ]
  },
  {
   "cell_type": "code",
   "execution_count": 16,
   "id": "f0d89002-1ea1-4f12-a152-16593f36e7e1",
   "metadata": {},
   "outputs": [],
   "source": [
    "X_train_bow = joblib.load('X_train_bow.joblib', mmap_mode='c')\n",
    "X_valid_bow = joblib.load('X_valid_bow.joblib', mmap_mode='c')"
   ]
  },
  {
   "cell_type": "code",
   "execution_count": 15,
   "id": "1a5bd336-1fcf-4123-91bf-2e1c1777388c",
   "metadata": {},
   "outputs": [
    {
     "name": "stdout",
     "output_type": "stream",
     "text": [
      "Existing file found: Appending to File: FinalAkash.txt\n",
      "Fitting 5 folds for each of 2 candidates, totalling 10 fits\n",
      "________________________________\n",
      "1. SGDClassifier(loss='log_loss', n_jobs=-1)\n",
      "________________________________\n",
      "{'clf__penalty': 'l2', 'fsp__k': 10000}\n",
      "              precision    recall  f1-score   support\n",
      "\n",
      "           0       0.62      0.75      0.68     80866\n",
      "           1       0.68      0.55      0.61     80867\n",
      "\n",
      "    accuracy                           0.65    161733\n",
      "   macro avg       0.65      0.65      0.64    161733\n",
      "weighted avg       0.65      0.65      0.64    161733\n",
      "\n",
      "--------------------------------------------------------------------------------\n",
      "--------------------------------------------------------------------------------\n"
     ]
    }
   ],
   "source": [
    "g = Classification(X_train_bow,X_valid_bow,y_train,y_valid,'FinalAkash','BoW',Gridsearch=True,model='lr',cv=5,fs='chi2')"
   ]
  },
  {
   "cell_type": "code",
   "execution_count": 16,
   "id": "0651df1d-eb19-4c0a-8bf9-d8ae97473e97",
   "metadata": {},
   "outputs": [
    {
     "name": "stdout",
     "output_type": "stream",
     "text": [
      "Existing file found: Appending to File: FinalAkash.txt\n",
      "Fitting 5 folds for each of 1 candidates, totalling 5 fits\n",
      "________________________________\n",
      "1. SGDClassifier(early_stopping=True, n_jobs=-1)\n",
      "________________________________\n",
      "{'fsp__k': 10000}\n",
      "              precision    recall  f1-score   support\n",
      "\n",
      "           0       0.61      0.79      0.69     80866\n",
      "           1       0.70      0.49      0.58     80867\n",
      "\n",
      "    accuracy                           0.64    161733\n",
      "   macro avg       0.66      0.64      0.63    161733\n",
      "weighted avg       0.66      0.64      0.63    161733\n",
      "\n",
      "--------------------------------------------------------------------------------\n",
      "--------------------------------------------------------------------------------\n"
     ]
    }
   ],
   "source": [
    "# linear svc\n",
    "g = Classification(X_train_bow,X_valid_bow,y_train,y_valid,'FinalAkash','BoW',Gridsearch=True,model='svm',cv=5,fs='chi2')"
   ]
  },
  {
   "cell_type": "code",
   "execution_count": null,
   "id": "943efa3c-fb3d-4fa4-8fa6-1fef59011f9e",
   "metadata": {},
   "outputs": [
    {
     "name": "stdout",
     "output_type": "stream",
     "text": [
      "Existing file found: Appending to File: FinalAkash.txt\n",
      "Fitting 5 folds for each of 8 candidates, totalling 40 fits\n"
     ]
    }
   ],
   "source": [
    "g = Classification(X_train_bow,X_valid_bow,y_train,y_valid,'FinalAkash','BoW',Gridsearch=True,model='dtree',cv=5,fs='chi2')"
   ]
  },
  {
   "cell_type": "code",
   "execution_count": null,
   "id": "14674307-a44a-4f5c-98eb-b8302dc1e514",
   "metadata": {},
   "outputs": [],
   "source": [
    "g = Classification(X_train_bow,X_valid_bow,y_train,y_valid,'FinalAkash','BoW',Gridsearch=True,model='mnb',cv=5,fs='chi2')"
   ]
  },
  {
   "cell_type": "code",
   "execution_count": null,
   "id": "8ddcf0dc-395f-45e3-91f5-eba4f17bb256",
   "metadata": {},
   "outputs": [],
   "source": [
    "g = Classification(X_train_bow,X_valid_bow,y_train,y_valid,'FinalAkash','BoW',Gridsearch=True,model='rf',cv=5,fs='chi2')"
   ]
  },
  {
   "cell_type": "code",
   "execution_count": null,
   "id": "0064e332-386c-4f48-8f85-d13d3a02dbdb",
   "metadata": {},
   "outputs": [],
   "source": [
    "g = Classification(X_train_bow,X_valid_bow,y_train,y_valid,'FinalAkash','BoW',Gridsearch=True,model='knn',cv=5,fs='chi2')"
   ]
  },
  {
   "cell_type": "code",
   "execution_count": null,
   "id": "2f528157-9e03-487c-bdb6-656428e2cc88",
   "metadata": {},
   "outputs": [],
   "source": []
  },
  {
   "cell_type": "code",
   "execution_count": null,
   "id": "613d6c32-c49d-4e82-a0dc-a691c28edc95",
   "metadata": {},
   "outputs": [],
   "source": []
  },
  {
   "cell_type": "code",
   "execution_count": null,
   "id": "bad06e61-9d6f-49cd-ad73-47114bffea5d",
   "metadata": {},
   "outputs": [],
   "source": []
  },
  {
   "cell_type": "code",
   "execution_count": null,
   "id": "1a2bf35c-2449-47e4-b7ae-ebad04cb7965",
   "metadata": {},
   "outputs": [],
   "source": []
  },
  {
   "cell_type": "code",
   "execution_count": null,
   "id": "ef91ad6b-dd54-48b1-801a-6e1eaa3aa36f",
   "metadata": {},
   "outputs": [],
   "source": []
  },
  {
   "cell_type": "code",
   "execution_count": null,
   "id": "dc831907-cb55-4aa6-8d53-f04b71e29797",
   "metadata": {},
   "outputs": [],
   "source": []
  },
  {
   "cell_type": "code",
   "execution_count": null,
   "id": "b2e48632-e124-416f-bee4-1976c653c67e",
   "metadata": {},
   "outputs": [],
   "source": []
  },
  {
   "cell_type": "code",
   "execution_count": null,
   "id": "e28075e3-a8d7-4bb1-bcdc-32a4a9fe4036",
   "metadata": {},
   "outputs": [],
   "source": []
  },
  {
   "cell_type": "code",
   "execution_count": null,
   "id": "b082e919-cb64-4016-868f-e1f4c1093e1b",
   "metadata": {},
   "outputs": [],
   "source": []
  },
  {
   "cell_type": "code",
   "execution_count": 40,
   "id": "059c76d8-7ac1-4157-bd3f-b30c292adbd8",
   "metadata": {},
   "outputs": [
    {
     "name": "stdout",
     "output_type": "stream",
     "text": [
      "\n",
      "\t ---------- Training Multinomial Naive Bayes Classifier ---------- \n",
      "\n",
      "Fitting 2 folds for each of 150 candidates, totalling 300 fits\n",
      "Best score on Training set :  0.6364028963396402\n",
      "\n",
      "\n",
      " The best set of parameters of the pipeline in Training Phase are: \n",
      "Pipeline(steps=[('fs',\n",
      "                 SelectKBest(k=10000,\n",
      "                             score_func=<function chi2 at 0x7ff18f10bb50>)),\n",
      "                ('clf5', MultinomialNB(alpha=13))])\n",
      "\n",
      " *******  Scores on Validation Data  ******* \n",
      " \n",
      "              precision    recall  f1-score   support\n",
      "\n",
      "           0       0.64      0.65      0.64     80866\n",
      "           1       0.64      0.63      0.64     80867\n",
      "\n",
      "    accuracy                           0.64    161733\n",
      "   macro avg       0.64      0.64      0.64    161733\n",
      "weighted avg       0.64      0.64      0.64    161733\n",
      "\n",
      "====================================================================\n",
      "Process Completed and time taken is : 0.3 minutes\n",
      "====================================================================\n"
     ]
    }
   ],
   "source": [
    "clf5bc = MultinomialNBb(X_train_bow, X_valid_bow, y_train, y_valid,'chi2')"
   ]
  },
  {
   "cell_type": "code",
   "execution_count": 49,
   "id": "c76dc36f-0f9e-4098-a3f6-5e18b49e4e4b",
   "metadata": {},
   "outputs": [
    {
     "name": "stdout",
     "output_type": "stream",
     "text": [
      "\n",
      "\t ---------- Training Multinomial Naive Bayes Classifier ---------- \n",
      "\n",
      "Fitting 2 folds for each of 1 candidates, totalling 2 fits\n",
      "Best score on Training set :  0.6352937636565796\n",
      "\n",
      "\n",
      " The best set of parameters of the pipeline in Training Phase are: \n",
      "Pipeline(steps=[('fs',\n",
      "                 SelectKBest(k=10000,\n",
      "                             score_func=<function mutual_info_classif at 0x7ff18f5427a0>)),\n",
      "                ('clf5', MultinomialNB(alpha=20))])\n",
      "\n",
      " *******  Scores on Validation Data  ******* \n",
      " \n",
      "              precision    recall  f1-score   support\n",
      "\n",
      "           0       0.63      0.67      0.65     80866\n",
      "           1       0.65      0.61      0.63     80867\n",
      "\n",
      "    accuracy                           0.64    161733\n",
      "   macro avg       0.64      0.64      0.64    161733\n",
      "weighted avg       0.64      0.64      0.64    161733\n",
      "\n",
      "====================================================================\n",
      "Process Completed and time taken is : 160.78 minutes\n",
      "====================================================================\n"
     ]
    }
   ],
   "source": [
    "clf5bm = MultinomialNBb(X_train_bow, X_valid_bow, y_train, y_valid,'MI')"
   ]
  },
  {
   "cell_type": "code",
   "execution_count": null,
   "id": "f1572afa-c610-4892-b49b-1ed3b9e999ab",
   "metadata": {},
   "outputs": [],
   "source": [
    "clf9bc = SVCb(X_train_bow, X_valid_bow, y_train, y_valid,'chi2')"
   ]
  },
  {
   "cell_type": "code",
   "execution_count": null,
   "id": "df56d6c1-b241-499f-a5c7-cc9892707bdc",
   "metadata": {},
   "outputs": [],
   "source": [
    "clf9bm = SVCb(X_train_bow, X_valid_bow, y_train, y_valid,'MI')"
   ]
  },
  {
   "cell_type": "code",
   "execution_count": 17,
   "id": "959ac6e8-90dd-4059-9e20-7061c98baab2",
   "metadata": {},
   "outputs": [],
   "source": [
    "del X_train_bow,X_valid_bow"
   ]
  },
  {
   "cell_type": "markdown",
   "id": "6c3d66e9-bf41-4d82-813e-009ace700d58",
   "metadata": {
    "tags": []
   },
   "source": [
    "#### tf-idf"
   ]
  },
  {
   "cell_type": "code",
   "execution_count": 18,
   "id": "e34a694d-1420-492a-be26-eaa2d5a9883c",
   "metadata": {},
   "outputs": [],
   "source": [
    "X_train_tfidf = joblib.load('X_train_tfidf.joblib', mmap_mode='c')\n",
    "X_valid_tfidf = joblib.load('X_valid_tfidf.joblib', mmap_mode='c')"
   ]
  },
  {
   "cell_type": "code",
   "execution_count": 16,
   "id": "96a5bcef-d93b-4d4d-9726-39afbf72b9f3",
   "metadata": {},
   "outputs": [
    {
     "name": "stdout",
     "output_type": "stream",
     "text": [
      "Existing file found: Appending to File: FinalAkash.txt\n",
      "Fitting 5 folds for each of 6 candidates, totalling 30 fits\n",
      "________________________________\n",
      "1. SGDClassifier(loss='log_loss', n_jobs=-1)\n",
      "________________________________\n",
      "{'clf__alpha': 0.001, 'clf__penalty': 'l2', 'fsp__k': 10000}\n",
      "              precision    recall  f1-score   support\n",
      "\n",
      "           0       0.61      0.70      0.65     80866\n",
      "           1       0.65      0.56      0.60     80867\n",
      "\n",
      "    accuracy                           0.63    161733\n",
      "   macro avg       0.63      0.63      0.62    161733\n",
      "weighted avg       0.63      0.63      0.62    161733\n",
      "\n",
      "--------------------------------------------------------------------------------\n",
      "--------------------------------------------------------------------------------\n"
     ]
    }
   ],
   "source": [
    "g = Classification(X_train_tfidf,X_valid_tfidf,y_train,y_valid,'FinalAkash','tfidf',Gridsearch=True,model='lr',cv=5,fs='chi2')"
   ]
  },
  {
   "cell_type": "code",
   "execution_count": 22,
   "id": "1905b2e1-6c6a-4164-99be-2b353bd011d0",
   "metadata": {},
   "outputs": [
    {
     "name": "stdout",
     "output_type": "stream",
     "text": [
      "Existing file found: Appending to File: FinalAkash.txt\n",
      "Fitting 5 folds for each of 9 candidates, totalling 45 fits\n",
      "________________________________\n",
      "1. SGDClassifier(early_stopping=True, n_jobs=-1)\n",
      "________________________________\n",
      "{'clf__alpha': 0.001, 'clf__loss': 'squared_hinge', 'fsp__k': 10000}\n",
      "              precision    recall  f1-score   support\n",
      "\n",
      "           0       0.62      0.70      0.66     80866\n",
      "           1       0.66      0.57      0.61     80867\n",
      "\n",
      "    accuracy                           0.64    161733\n",
      "   macro avg       0.64      0.64      0.64    161733\n",
      "weighted avg       0.64      0.64      0.64    161733\n",
      "\n",
      "--------------------------------------------------------------------------------\n",
      "--------------------------------------------------------------------------------\n"
     ]
    }
   ],
   "source": [
    "g = Classification(X_train_tfidf,X_valid_tfidf,y_train,y_valid,'FinalAkash','tfidf',Gridsearch=True,model='svm',cv=5,fs='chi2')"
   ]
  },
  {
   "cell_type": "code",
   "execution_count": 19,
   "id": "a624677a-bb62-4f2a-a3a4-ec39f9b8cc4a",
   "metadata": {},
   "outputs": [
    {
     "name": "stdout",
     "output_type": "stream",
     "text": [
      "Existing file found: Appending to File: FinalAkash.txt\n",
      "Fitting 5 folds for each of 6 candidates, totalling 30 fits\n"
     ]
    },
    {
     "name": "stderr",
     "output_type": "stream",
     "text": [
      "/usr/local/lib/python3.10/dist-packages/sklearn/naive_bayes.py:591: UserWarning: alpha too small will result in numeric errors, setting alpha = 1.0e-10\n",
      "  warnings.warn(\n",
      "/usr/local/lib/python3.10/dist-packages/sklearn/naive_bayes.py:591: UserWarning: alpha too small will result in numeric errors, setting alpha = 1.0e-10\n",
      "  warnings.warn(\n",
      "/usr/local/lib/python3.10/dist-packages/sklearn/naive_bayes.py:591: UserWarning: alpha too small will result in numeric errors, setting alpha = 1.0e-10\n",
      "  warnings.warn(\n",
      "/usr/local/lib/python3.10/dist-packages/sklearn/naive_bayes.py:591: UserWarning: alpha too small will result in numeric errors, setting alpha = 1.0e-10\n",
      "  warnings.warn(\n",
      "/usr/local/lib/python3.10/dist-packages/sklearn/naive_bayes.py:591: UserWarning: alpha too small will result in numeric errors, setting alpha = 1.0e-10\n",
      "  warnings.warn(\n"
     ]
    },
    {
     "name": "stdout",
     "output_type": "stream",
     "text": [
      "________________________________\n",
      "1. MultinomialNB()\n",
      "________________________________\n",
      "{'clf__alpha': 31.622776601683793, 'fsp__k': 10000}\n",
      "              precision    recall  f1-score   support\n",
      "\n",
      "           0       0.63      0.68      0.66     80866\n",
      "           1       0.66      0.60      0.63     80867\n",
      "\n",
      "    accuracy                           0.64    161733\n",
      "   macro avg       0.64      0.64      0.64    161733\n",
      "weighted avg       0.64      0.64      0.64    161733\n",
      "\n",
      "--------------------------------------------------------------------------------\n",
      "--------------------------------------------------------------------------------\n"
     ]
    }
   ],
   "source": [
    "g = Classification(X_train_tfidf,X_valid_tfidf,y_train,y_valid,'FinalAkash','tfidf',Gridsearch=True,model='mnb',cv=5,fs='chi2')"
   ]
  },
  {
   "cell_type": "code",
   "execution_count": 30,
   "id": "7c17dcd1-cf0e-4d1b-9fc4-fd2aaee25ac8",
   "metadata": {},
   "outputs": [
    {
     "name": "stdout",
     "output_type": "stream",
     "text": [
      "Existing file found: Appending to File: FinalAkash.txt\n",
      "Fitting 5 folds for each of 4 candidates, totalling 20 fits\n",
      "________________________________\n",
      "1. DecisionTreeClassifier()\n",
      "________________________________\n",
      "{'clf__criterion': 'gini', 'clf__max_depth': 100, 'clf__max_leaf_nodes': 100, 'fsp__k': 10000}\n",
      "              precision    recall  f1-score   support\n",
      "\n",
      "           0       0.59      0.67      0.63     80866\n",
      "           1       0.62      0.54      0.58     80867\n",
      "\n",
      "    accuracy                           0.61    161733\n",
      "   macro avg       0.61      0.61      0.60    161733\n",
      "weighted avg       0.61      0.61      0.60    161733\n",
      "\n",
      "--------------------------------------------------------------------------------\n",
      "--------------------------------------------------------------------------------\n"
     ]
    }
   ],
   "source": [
    "g = Classification(X_train_tfidf,X_valid_tfidf,y_train,y_valid,'FinalAkash','tfidf',Gridsearch=True,model='dtree',cv=5,fs='chi2')"
   ]
  },
  {
   "cell_type": "code",
   "execution_count": 27,
   "id": "c055cadd-65a3-40b1-a13d-c2d6729fa4ca",
   "metadata": {},
   "outputs": [
    {
     "name": "stdout",
     "output_type": "stream",
     "text": [
      "Existing file found: Appending to File: FinalAkash.txt\n",
      "Fitting 5 folds for each of 8 candidates, totalling 40 fits\n",
      "________________________________\n",
      "1. RandomForestClassifier()\n",
      "________________________________\n",
      "{'clf__bootstrap': True, 'clf__criterion': 'gini', 'clf__max_depth': 100, 'clf__n_estimators': 100, 'fsp__k': 10000}\n",
      "              precision    recall  f1-score   support\n",
      "\n",
      "           0       0.61      0.75      0.67     80866\n",
      "           1       0.67      0.52      0.59     80867\n",
      "\n",
      "    accuracy                           0.63    161733\n",
      "   macro avg       0.64      0.63      0.63    161733\n",
      "weighted avg       0.64      0.63      0.63    161733\n",
      "\n",
      "--------------------------------------------------------------------------------\n",
      "--------------------------------------------------------------------------------\n"
     ]
    }
   ],
   "source": [
    "g = Classification(X_train_tfidf,X_valid_tfidf,y_train,y_valid,'FinalAkash','tfidf',Gridsearch=True,model='rf',cv=5,fs='chi2')"
   ]
  },
  {
   "cell_type": "code",
   "execution_count": null,
   "id": "419ca102-7bf5-40d4-8116-874e49451b73",
   "metadata": {},
   "outputs": [
    {
     "name": "stdout",
     "output_type": "stream",
     "text": [
      "Existing file found: Appending to File: FinalAkash.txt\n",
      "Fitting 5 folds for each of 8 candidates, totalling 40 fits\n"
     ]
    }
   ],
   "source": [
    "g = Classification(X_train_tfidf,X_valid_tfidf,y_train,y_valid,'FinalAkash','tfidf',Gridsearch=True,model='knn',cv=5,fs='chi2')"
   ]
  },
  {
   "cell_type": "code",
   "execution_count": null,
   "id": "6c183331-d250-4b6c-af39-70719178f9a2",
   "metadata": {},
   "outputs": [],
   "source": [
    "del X_train_tfidf,X_valid_tfidf"
   ]
  }
 ],
 "metadata": {
  "kernelspec": {
   "display_name": "Python 3 (ipykernel)",
   "language": "python",
   "name": "python3"
  },
  "language_info": {
   "codemirror_mode": {
    "name": "ipython",
    "version": 3
   },
   "file_extension": ".py",
   "mimetype": "text/x-python",
   "name": "python",
   "nbconvert_exporter": "python",
   "pygments_lexer": "ipython3",
   "version": "3.9.12"
  }
 },
 "nbformat": 4,
 "nbformat_minor": 5
}
